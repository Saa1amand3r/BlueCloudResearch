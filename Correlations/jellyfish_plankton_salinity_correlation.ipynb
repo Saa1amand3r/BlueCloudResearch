{
 "cells": [
  {
   "cell_type": "code",
   "id": "initial_id",
   "metadata": {
    "collapsed": true,
    "ExecuteTime": {
     "end_time": "2025-09-30T21:19:39.656921Z",
     "start_time": "2025-09-30T21:19:39.535328Z"
    }
   },
   "source": [
    "import requests\n",
    "import pandas as pd\n",
    "\n",
    "def search_taxon(name):\n",
    "    url = f\"https://api.obis.org/v3/taxon/complete/{name}\"\n",
    "    r = requests.get(url)\n",
    "    r.raise_for_status()\n",
    "    data = r.json()\n",
    "    return pd.DataFrame(data)   # <-- no [\"results\"] here\n",
    "\n",
    "# Search for jellyfish (Scyphozoa)\n",
    "df_taxon = search_taxon(\"Scyphozoa\")\n",
    "print(df_taxon.head(10))\n"
   ],
   "outputs": [
    {
     "name": "stdout",
     "output_type": "stream",
     "text": [
      "        id            scientificName acceptedNameUsageID  \\\n",
      "0   135220                 Scyphozoa              135220   \n",
      "1  1561414  Scyphozoa incertae sedis             1561414   \n",
      "\n",
      "  scientificNameAuthorship      rank   kingdom    phylum      class order  \\\n",
      "0             Goette, 1887     Class  Animalia  Cnidaria  Scyphozoa  None   \n",
      "1                     None  Subclass  Animalia  Cnidaria  Scyphozoa  None   \n",
      "\n",
      "  family genus species  \n",
      "0   None  None    None  \n",
      "1   None  None    None  \n"
     ]
    }
   ],
   "execution_count": 3
  },
  {
   "metadata": {
    "ExecuteTime": {
     "end_time": "2025-09-30T21:19:49.034643Z",
     "start_time": "2025-09-30T21:19:49.030453Z"
    }
   },
   "cell_type": "code",
   "source": [
    "import requests\n",
    "import pandas as pd\n",
    "import numpy as np\n",
    "\n",
    "def get_obis_occurrences(taxonid, size=10000, limit=50000):\n",
    "    \"\"\"Fetch OBIS occurrence records for a given taxonID\"\"\"\n",
    "    url = f\"https://api.obis.org/v3/occurrence?taxonid={taxonid}&size={size}\"\n",
    "    r = requests.get(url)\n",
    "    r.raise_for_status()\n",
    "    data = r.json().get(\"results\", [])\n",
    "    return pd.DataFrame(data)\n",
    "\n",
    "def bin_grid(df, lat_col=\"decimalLatitude\", lon_col=\"decimalLongitude\"):\n",
    "    \"\"\"Bin lat/lon occurrences into 1° grid\"\"\"\n",
    "    if lat_col in df and lon_col in df:\n",
    "        return (\n",
    "            df.groupby([df[lat_col].round(), df[lon_col].round()])\n",
    "              .size()\n",
    "              .reset_index(name=\"count\")\n",
    "              .rename(columns={lat_col: \"lat\", lon_col: \"lon\"})\n",
    "        )\n",
    "    return pd.DataFrame(columns=[\"lat\",\"lon\",\"count\"])\n"
   ],
   "id": "6c39d6360042dc5f",
   "outputs": [],
   "execution_count": 5
  },
  {
   "metadata": {
    "ExecuteTime": {
     "end_time": "2025-09-30T21:20:45.038568Z",
     "start_time": "2025-09-30T21:19:50.647730Z"
    }
   },
   "cell_type": "code",
   "source": [
    "# Copepods (1080)\n",
    "df_copepods = get_obis_occurrences(1080)\n",
    "grid_copepods = bin_grid(df_copepods)\n",
    "\n",
    "# Jellyfish (Scyphozoa, 135220)\n",
    "df_jelly = get_obis_occurrences(135220)\n",
    "grid_jelly = bin_grid(df_jelly)\n",
    "\n",
    "print(\"Copepods grid:\", grid_copepods.shape)\n",
    "print(\"Jellyfish grid:\", grid_jelly.shape)\n"
   ],
   "id": "50b34f5adcb44b46",
   "outputs": [
    {
     "name": "stdout",
     "output_type": "stream",
     "text": [
      "Copepods grid: (2767, 3)\n",
      "Jellyfish grid: (1553, 3)\n"
     ]
    }
   ],
   "execution_count": 6
  },
  {
   "metadata": {
    "ExecuteTime": {
     "end_time": "2025-09-30T21:21:11.282118Z",
     "start_time": "2025-09-30T21:21:11.089725Z"
    }
   },
   "cell_type": "code",
   "source": [
    "import pandas as pd\n",
    "import gzip\n",
    "\n",
    "fname = \"woa18_decav_s00mn01.csv.gz\"\n",
    "\n",
    "# Read as fixed-width inside gzip\n",
    "with gzip.open(fname, \"rt\") as f:\n",
    "    df_raw = pd.read_fwf(f, comment=\"#\", header=None)\n",
    "\n",
    "print(\"Raw shape:\", df_raw.shape)\n",
    "print(df_raw.head())\n"
   ],
   "id": "cb7dfb2b1103f055",
   "outputs": [
    {
     "name": "stdout",
     "output_type": "stream",
     "text": [
      "Raw shape: (40193, 1)\n",
      "                                                   0\n",
      "0  -77.500,-178.500,34.191,34.172,34.174,34.203,3...\n",
      "1  -77.500,-177.500,34.133,34.129,34.128,34.133,3...\n",
      "2  -77.500,-176.500,34.192,34.200,34.214,34.234,3...\n",
      "3  -77.500,-175.500,34.232,34.232,34.245,34.254,3...\n",
      "4  -77.500,-174.500,34.185,34.187,34.244,34.303,3...\n"
     ]
    }
   ],
   "execution_count": 10
  },
  {
   "metadata": {
    "ExecuteTime": {
     "end_time": "2025-09-30T21:22:54.328474Z",
     "start_time": "2025-09-30T21:22:53.604886Z"
    }
   },
   "cell_type": "code",
   "source": [
    "import pandas as pd\n",
    "import numpy as np\n",
    "import gzip\n",
    "\n",
    "fname = \"../data/woa18_decav_s00mn01.csv.gz\"\n",
    "\n",
    "# Read file and split lines safely\n",
    "with gzip.open(fname, \"rt\") as f:\n",
    "    lines = [line.strip() for line in f if not line.startswith(\"#\")]\n",
    "\n",
    "# Split by commas, skip empty strings, convert to float\n",
    "rows = []\n",
    "for line in lines:\n",
    "    parts = [p for p in line.split(\",\") if p != \"\"]\n",
    "    rows.append(list(map(float, parts)))\n",
    "\n",
    "# Convert to DataFrame\n",
    "df_raw = pd.DataFrame(rows)\n",
    "print(\"Raw shape:\", df_raw.shape)\n",
    "print(df_raw.head())\n"
   ],
   "id": "2076ef3d173f590e",
   "outputs": [
    {
     "name": "stdout",
     "output_type": "stream",
     "text": [
      "Raw shape: (40193, 104)\n",
      "    0      1       2       3       4       5       6       7       8    \\\n",
      "0 -77.5 -178.5  34.191  34.172  34.174  34.203  34.220  34.235  34.242   \n",
      "1 -77.5 -177.5  34.133  34.129  34.128  34.133  34.138  34.165  34.184   \n",
      "2 -77.5 -176.5  34.192  34.200  34.214  34.234  34.259  34.266  34.269   \n",
      "3 -77.5 -175.5  34.232  34.232  34.245  34.254  34.259  34.270  34.289   \n",
      "4 -77.5 -174.5  34.185  34.187  34.244  34.303  34.332  34.339  34.343   \n",
      "\n",
      "      9    ...  94   95   96   97   98   99   100  101  102  103  \n",
      "0  34.251  ...  NaN  NaN  NaN  NaN  NaN  NaN  NaN  NaN  NaN  NaN  \n",
      "1  34.227  ...  NaN  NaN  NaN  NaN  NaN  NaN  NaN  NaN  NaN  NaN  \n",
      "2  34.275  ...  NaN  NaN  NaN  NaN  NaN  NaN  NaN  NaN  NaN  NaN  \n",
      "3  34.346  ...  NaN  NaN  NaN  NaN  NaN  NaN  NaN  NaN  NaN  NaN  \n",
      "4  34.353  ...  NaN  NaN  NaN  NaN  NaN  NaN  NaN  NaN  NaN  NaN  \n",
      "\n",
      "[5 rows x 104 columns]\n"
     ]
    }
   ],
   "execution_count": 15
  },
  {
   "metadata": {
    "ExecuteTime": {
     "end_time": "2025-09-30T21:23:01.132111Z",
     "start_time": "2025-09-30T21:23:01.123186Z"
    }
   },
   "cell_type": "code",
   "source": [
    "lats = df_raw.iloc[:, 0].values   # latitude\n",
    "lons = df_raw.iloc[:, 1].values   # longitude\n",
    "sal  = df_raw.iloc[:, 2].values   # surface salinity\n",
    "\n",
    "df_sal = pd.DataFrame({\n",
    "    \"lat_bin\": lats,\n",
    "    \"lon_bin\": lons,\n",
    "    \"salinity\": sal\n",
    "}).dropna()\n",
    "\n",
    "print(df_sal.head())\n",
    "print(\"Salinity tidy shape:\", df_sal.shape)\n"
   ],
   "id": "a23121bb1769dc93",
   "outputs": [
    {
     "name": "stdout",
     "output_type": "stream",
     "text": [
      "   lat_bin  lon_bin  salinity\n",
      "0    -77.5   -178.5    34.191\n",
      "1    -77.5   -177.5    34.133\n",
      "2    -77.5   -176.5    34.192\n",
      "3    -77.5   -175.5    34.232\n",
      "4    -77.5   -174.5    34.185\n",
      "Salinity tidy shape: (40193, 3)\n"
     ]
    }
   ],
   "execution_count": 16
  },
  {
   "metadata": {
    "ExecuteTime": {
     "end_time": "2025-09-30T21:24:53.207207Z",
     "start_time": "2025-09-30T21:24:53.203545Z"
    }
   },
   "cell_type": "code",
   "source": [
    "def bin_grid(df, cellsize=1):\n",
    "    if \"decimalLatitude\" not in df.columns or \"decimalLongitude\" not in df.columns:\n",
    "        return pd.DataFrame()\n",
    "\n",
    "    df = df.copy()\n",
    "    df[\"lat_bin\"] = (df[\"decimalLatitude\"].round() - 0.5).astype(float)\n",
    "    df[\"lon_bin\"] = (df[\"decimalLongitude\"].round() - 0.5).astype(float)\n",
    "\n",
    "    return (df.groupby([\"lat_bin\", \"lon_bin\"])\n",
    "              .size()\n",
    "              .reset_index(name=\"count\"))\n"
   ],
   "id": "da0c648c1f3e4a6a",
   "outputs": [],
   "execution_count": 21
  },
  {
   "metadata": {
    "ExecuteTime": {
     "end_time": "2025-09-30T21:25:01.989564Z",
     "start_time": "2025-09-30T21:25:01.946861Z"
    }
   },
   "cell_type": "code",
   "source": [
    "grid_copepods = bin_grid(df_copepods)\n",
    "grid_jelly    = bin_grid(df_jelly)\n",
    "\n",
    "merged = df_sal.merge(grid_copepods, on=[\"lat_bin\", \"lon_bin\"], how=\"inner\", suffixes=(\"\", \"_copepods\"))\n",
    "merged = merged.merge(grid_jelly, on=[\"lat_bin\", \"lon_bin\"], how=\"inner\", suffixes=(\"\", \"_jelly\"))\n",
    "\n",
    "merged = merged.rename(columns={\"count\": \"copepods\", \"count_jelly\": \"jellyfish\"})\n",
    "print(merged.shape)\n",
    "print(merged.head())\n"
   ],
   "id": "2cd1986f9ec7fbff",
   "outputs": [
    {
     "name": "stdout",
     "output_type": "stream",
     "text": [
      "(380, 5)\n",
      "   lat_bin  lon_bin  salinity  copepods  jellyfish\n",
      "0    -58.5    -77.5    34.103         1          1\n",
      "1    -57.5    -64.5    34.020         1          1\n",
      "2    -53.5    116.5    33.854         1          1\n",
      "3    -53.5    172.5    34.292         2          1\n",
      "4    -50.5     69.5    33.863         2          1\n"
     ]
    }
   ],
   "execution_count": 22
  },
  {
   "metadata": {
    "ExecuteTime": {
     "end_time": "2025-09-30T21:25:48.523269Z",
     "start_time": "2025-09-30T21:25:48.515341Z"
    }
   },
   "cell_type": "code",
   "source": [
    "# Pearson correlation\n",
    "print(merged[[\"salinity\", \"copepods\", \"jellyfish\"]].corr())\n",
    "\n",
    "# Or Spearman rank (if distributions are not normal)\n",
    "print(merged[[\"salinity\", \"copepods\", \"jellyfish\"]].corr(method=\"spearman\"))\n"
   ],
   "id": "6cde1facbdfab61",
   "outputs": [
    {
     "name": "stdout",
     "output_type": "stream",
     "text": [
      "           salinity  copepods  jellyfish\n",
      "salinity   1.000000 -0.077595  -0.019528\n",
      "copepods  -0.077595  1.000000   0.025267\n",
      "jellyfish -0.019528  0.025267   1.000000\n",
      "           salinity  copepods  jellyfish\n",
      "salinity   1.000000 -0.037812  -0.113895\n",
      "copepods  -0.037812  1.000000   0.271125\n",
      "jellyfish -0.113895  0.271125   1.000000\n"
     ]
    }
   ],
   "execution_count": 23
  },
  {
   "metadata": {
    "ExecuteTime": {
     "end_time": "2025-09-30T22:44:14.520479Z",
     "start_time": "2025-09-30T22:44:14.468119Z"
    }
   },
   "cell_type": "code",
   "source": [
    "import seaborn as sns\n",
    "import matplotlib.pyplot as plt\n",
    "\n",
    "# --- Compute Pearson correlation matrix ---\n",
    "pearson_corr = merged[[\"salinity\", \"copepods\", \"jellyfish\"]].corr(method=\"pearson\")\n",
    "\n",
    "plt.figure(figsize=(6,4))\n",
    "sns.heatmap(\n",
    "    pearson_corr,\n",
    "    annot=True, fmt=\".3f\", cmap=\"coolwarm\", center=0,\n",
    "    cbar_kws={\"shrink\": 0.7}\n",
    ")\n",
    "plt.title(\"Correlation Heatmap (Pearson)\")\n",
    "plt.show()\n"
   ],
   "id": "a21c35f34f76c32e",
   "outputs": [
    {
     "ename": "NameError",
     "evalue": "name 'merged' is not defined",
     "output_type": "error",
     "traceback": [
      "\u001B[0;31m---------------------------------------------------------------------------\u001B[0m",
      "\u001B[0;31mNameError\u001B[0m                                 Traceback (most recent call last)",
      "Cell \u001B[0;32mIn[5], line 5\u001B[0m\n\u001B[1;32m      2\u001B[0m \u001B[38;5;28;01mimport\u001B[39;00m\u001B[38;5;250m \u001B[39m\u001B[38;5;21;01mmatplotlib\u001B[39;00m\u001B[38;5;21;01m.\u001B[39;00m\u001B[38;5;21;01mpyplot\u001B[39;00m\u001B[38;5;250m \u001B[39m\u001B[38;5;28;01mas\u001B[39;00m\u001B[38;5;250m \u001B[39m\u001B[38;5;21;01mplt\u001B[39;00m\n\u001B[1;32m      4\u001B[0m \u001B[38;5;66;03m# --- Compute Pearson correlation matrix ---\u001B[39;00m\n\u001B[0;32m----> 5\u001B[0m pearson_corr \u001B[38;5;241m=\u001B[39m \u001B[43mmerged\u001B[49m[[\u001B[38;5;124m\"\u001B[39m\u001B[38;5;124msalinity\u001B[39m\u001B[38;5;124m\"\u001B[39m, \u001B[38;5;124m\"\u001B[39m\u001B[38;5;124mcopepods\u001B[39m\u001B[38;5;124m\"\u001B[39m, \u001B[38;5;124m\"\u001B[39m\u001B[38;5;124mjellyfish\u001B[39m\u001B[38;5;124m\"\u001B[39m]]\u001B[38;5;241m.\u001B[39mcorr(method\u001B[38;5;241m=\u001B[39m\u001B[38;5;124m\"\u001B[39m\u001B[38;5;124mpearson\u001B[39m\u001B[38;5;124m\"\u001B[39m)\n\u001B[1;32m      7\u001B[0m plt\u001B[38;5;241m.\u001B[39mfigure(figsize\u001B[38;5;241m=\u001B[39m(\u001B[38;5;241m6\u001B[39m,\u001B[38;5;241m4\u001B[39m))\n\u001B[1;32m      8\u001B[0m sns\u001B[38;5;241m.\u001B[39mheatmap(\n\u001B[1;32m      9\u001B[0m     pearson_corr,\n\u001B[1;32m     10\u001B[0m     annot\u001B[38;5;241m=\u001B[39m\u001B[38;5;28;01mTrue\u001B[39;00m, fmt\u001B[38;5;241m=\u001B[39m\u001B[38;5;124m\"\u001B[39m\u001B[38;5;124m.3f\u001B[39m\u001B[38;5;124m\"\u001B[39m, cmap\u001B[38;5;241m=\u001B[39m\u001B[38;5;124m\"\u001B[39m\u001B[38;5;124mcoolwarm\u001B[39m\u001B[38;5;124m\"\u001B[39m, center\u001B[38;5;241m=\u001B[39m\u001B[38;5;241m0\u001B[39m,\n\u001B[1;32m     11\u001B[0m     cbar_kws\u001B[38;5;241m=\u001B[39m{\u001B[38;5;124m\"\u001B[39m\u001B[38;5;124mshrink\u001B[39m\u001B[38;5;124m\"\u001B[39m: \u001B[38;5;241m0.7\u001B[39m}\n\u001B[1;32m     12\u001B[0m )\n",
      "\u001B[0;31mNameError\u001B[0m: name 'merged' is not defined"
     ]
    }
   ],
   "execution_count": 5
  },
  {
   "metadata": {
    "ExecuteTime": {
     "end_time": "2025-09-30T21:26:18.322734Z",
     "start_time": "2025-09-30T21:26:16.477735Z"
    }
   },
   "cell_type": "code",
   "source": [
    "import seaborn as sns\n",
    "import matplotlib.pyplot as plt\n",
    "\n",
    "sns.pairplot(merged[[\"salinity\", \"copepods\", \"jellyfish\"]], kind=\"scatter\")\n",
    "plt.show()\n"
   ],
   "id": "c9400a20ed4655c1",
   "outputs": [
    {
     "data": {
      "text/plain": [
       "<Figure size 750x750 with 12 Axes>"
      ],
      "image/png": "[encoded data removed]"
     },
     "metadata": {},
     "output_type": "display_data"
    }
   ],
   "execution_count": 24
  },
  {
   "metadata": {},
   "cell_type": "markdown",
   "source": [
    "## This tells us:\n",
    "\n",
    "### Salinity doesn’t strongly explain copepod or jellyfish abundance in your gridded dataset.\n",
    "\n",
    "### Jellyfish and copepods don’t show much correlation with each other either.\n",
    "\n",
    "### Spearman reveals slightly stronger monotonic relationships than Pearson, which makes sense given the non-normal distributions you saw in the scatterplots (lots of zeros + long tails)."
   ],
   "id": "4f1d301a12a5c50f"
  },
  {
   "metadata": {},
   "cell_type": "markdown",
   "source": "## carbon (TCO₂)",
   "id": "3d1546d087e741fb"
  }
 ],
 "metadata": {
  "kernelspec": {
   "display_name": "Python 3",
   "language": "python",
   "name": "python3"
  },
  "language_info": {
   "codemirror_mode": {
    "name": "ipython",
    "version": 2
   },
   "file_extension": ".py",
   "mimetype": "text/x-python",
   "name": "python",
   "nbconvert_exporter": "python",
   "pygments_lexer": "ipython2",
   "version": "2.7.6"
  }
 },
 "nbformat": 4,
 "nbformat_minor": 5
}
