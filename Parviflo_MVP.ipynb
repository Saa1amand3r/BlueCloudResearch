{
 "cells": [
  {
   "cell_type": "markdown",
   "id": "f2935d81",
   "metadata": {},
   "source": [
    "\n",
    "# Parviflo — Flip‑Risk Map & Hotspot Watch‑List (MVP Notebook)\n",
    "\n",
    "This notebook creates an end‑to‑end **demo** of the Parviflo idea for a hackathon:\n",
    "- Builds a **0.25° grid** over a small ocean basin (Mediterranean by default).\n",
    "- Simulates **jellyfish observations**, **fish index**, and **environmental drivers** (SST, O₂, Chl‑a) to keep the notebook runnable without internet.\n",
    "- Engineers features and trains a **logistic regression** to estimate **Flip‑Risk** (probability jellyfish dominate vs fish in the next months).\n",
    "- Produces two judge‑ready outputs:\n",
    "  1) **Flip‑Risk Map** — colored grid of risk for the next 6 months\n",
    "  2) **Hotspot Watch‑List** — top zones where risk is rising the fastest\n",
    "\n",
    "> **Live mode hooks** (OBIS, ICES, ERDDAP/WOA) are included as functions you can later wire to APIs when online. For the hackathon demo or offline judging, use the default **DEMO_MODE=True** to generate realistic synthetic signals and plots.\n"
   ]
  },
  {
   "cell_type": "code",
   "id": "1ec24a9b",
   "metadata": {
    "ExecuteTime": {
     "end_time": "2025-10-01T03:58:14.095481Z",
     "start_time": "2025-10-01T03:58:09.328341Z"
    }
   },
   "source": [
    "\n",
    "# --- Imports (only standard scientific stack) ---\n",
    "import math, json, itertools, warnings\n",
    "from dataclasses import dataclass\n",
    "from pathlib import Path\n",
    "from typing import Tuple, Dict, Optional\n",
    "\n",
    "import numpy as np\n",
    "import pandas as pd\n",
    "import matplotlib.pyplot as plt\n",
    "from sklearn.linear_model import LogisticRegression\n",
    "from sklearn.metrics import roc_auc_score, brier_score_loss\n",
    "from sklearn.model_selection import train_test_split\n",
    "from sklearn.utils import shuffle\n",
    "\n",
    "warnings.filterwarnings(\"ignore\")\n",
    "\n",
    "# --- Config ---\n",
    "DEMO_MODE = True  # keep True for offline demo; set False and implement the live fetchers if you have internet\n",
    "np.random.seed(42)\n",
    "\n",
    "# Basin (Mediterranean default)\n",
    "BBOX = (-6.0, 30.0, 36.0, 46.0)  # (min_lon, min_lat, max_lon, max_lat)\n",
    "GRID_DEG = 0.25  # 0.25 degree grid\n",
    "MONTHS = pd.period_range(\"2018-01\", \"2024-12\", freq=\"M\")\n",
    "\n",
    "# Outputs\n",
    "OUT_DIR = \"outputs_parviflo\"\n",
    "Path(OUT_DIR).mkdir(parents=True, exist_ok=True)\n"
   ],
   "outputs": [],
   "execution_count": 1
  },
  {
   "cell_type": "code",
   "id": "7fe2bf0f",
   "metadata": {
    "ExecuteTime": {
     "end_time": "2025-10-01T03:58:14.117344Z",
     "start_time": "2025-10-01T03:58:14.106790Z"
    }
   },
   "source": [
    "\n",
    "def make_grid(bbox, step):\n",
    "    min_lon, min_lat, max_lon, max_lat = bbox\n",
    "    lons = np.arange(min_lon, max_lon + 1e-9, step)\n",
    "    lats = np.arange(min_lat, max_lat + 1e-9, step)\n",
    "    lon2, lat2 = np.meshgrid(lons, lats)\n",
    "    cells = pd.DataFrame({\n",
    "        \"lon\": lon2.ravel(),\n",
    "        \"lat\": lat2.ravel()\n",
    "    })\n",
    "    return cells\n",
    "\n",
    "grid = make_grid(BBOX, GRID_DEG)\n",
    "grid.head(), len(grid)\n"
   ],
   "outputs": [
    {
     "data": {
      "text/plain": [
       "(    lon   lat\n",
       " 0 -6.00  30.0\n",
       " 1 -5.75  30.0\n",
       " 2 -5.50  30.0\n",
       " 3 -5.25  30.0\n",
       " 4 -5.00  30.0,\n",
       " 10985)"
      ]
     },
     "execution_count": 2,
     "metadata": {},
     "output_type": "execute_result"
    }
   ],
   "execution_count": 2
  },
  {
   "cell_type": "markdown",
   "id": "f4ebae4f",
   "metadata": {},
   "source": [
    "\n",
    "## Data (DEMO) generators\n"
   ]
  },
  {
   "cell_type": "code",
   "id": "51c4ffcb",
   "metadata": {
    "ExecuteTime": {
     "end_time": "2025-10-01T03:58:58.614476Z",
     "start_time": "2025-10-01T03:58:14.298200Z"
    }
   },
   "source": [
    "\n",
    "def seasonal_wave(t_idx, amplitude=1.0, phase=0.0):\n",
    "    return amplitude * np.sin(2*np.pi*(t_idx/12.0) + phase)\n",
    "\n",
    "def distance_to_coast(lat, lon):\n",
    "    d_south = abs(lat - BBOX[1])\n",
    "    d_north = abs(lat - BBOX[3])\n",
    "    return np.minimum(d_south, d_north)\n",
    "\n",
    "def demo_environment_series(grid: pd.DataFrame, months: pd.PeriodIndex) -> pd.DataFrame:\n",
    "    rows = []\n",
    "    for ti, p in enumerate(months):\n",
    "        sst_base = 18.0 + seasonal_wave(ti, 6.0, phase=0.4)\n",
    "        o2_base  = 5.8  - 0.02*(ti/12.0)\n",
    "        chla_base = 1.2 + seasonal_wave(ti, 0.6, phase=-0.8)\n",
    "\n",
    "        for _, r in grid.iterrows():\n",
    "            lat, lon = r.lat, r.lon\n",
    "            sst = sst_base + 0.02*(lon - BBOX[0]) + np.random.normal(0, 0.3)\n",
    "            o2  = o2_base  - 0.005*(lat - BBOX[1]) + np.random.normal(0, 0.05)\n",
    "            chla = chla_base + 0.004*((BBOX[2]-abs(lon-15))) + np.random.normal(0, 0.1)\n",
    "\n",
    "            rows.append({\n",
    "                \"time\": p.to_timestamp(how=\"end\"),\n",
    "                \"lat\": lat, \"lon\": lon,\n",
    "                \"sst\": sst, \"o2\": o2, \"chla\": chla\n",
    "            })\n",
    "    return pd.DataFrame(rows)\n",
    "\n",
    "def demo_biotic_series(env_df: pd.DataFrame) -> pd.DataFrame:\n",
    "    df = env_df.copy()\n",
    "    coast_d = distance_to_coast(df[\"lat\"].values, df[\"lon\"].values)\n",
    "    coast_weight = np.exp(-coast_d/2.0)\n",
    "\n",
    "    jelly_mu = 0.15*df[\"sst\"].values + 0.35*df[\"chla\"].values + 2.5*coast_weight + np.random.normal(0, 0.5, len(df))\n",
    "    jelly_mu = np.clip(jelly_mu, 0.0, None)\n",
    "    jelly_counts = np.random.poisson(lam=np.maximum(jelly_mu,1e-3))\n",
    "\n",
    "    historic = 1.2*np.cos((df[\"lon\"].values - 10)/6.0) + 0.6*np.cos((df[\"lat\"].values - 38)/4.0)\n",
    "    fish_raw = 1.8*df[\"o2\"].values - 0.1*df[\"sst\"].values + 0.8*historic + np.random.normal(0, 0.3, len(df))\n",
    "\n",
    "    out = df[[\"time\",\"lat\",\"lon\"]].copy()\n",
    "    out[\"jelly_count\"] = jelly_counts\n",
    "    out[\"fish_index\"] = fish_raw\n",
    "    return out\n",
    "\n",
    "env_df = demo_environment_series(grid, MONTHS)\n",
    "bio_df = demo_biotic_series(env_df)\n",
    "\n",
    "env_df.head(), bio_df.head()\n"
   ],
   "outputs": [
    {
     "data": {
      "text/plain": [
       "(                           time   lat   lon        sst        o2      chla\n",
       " 0 2018-01-31 23:59:59.999999999  30.0 -6.00  20.485524  5.793087  0.894355\n",
       " 1 2018-01-31 23:59:59.999999999  30.0 -5.75  20.798419  5.788292  0.807173\n",
       " 2 2018-01-31 23:59:59.999999999  30.0 -5.50  20.820274  5.838372  0.784639\n",
       " 3 2018-01-31 23:59:59.999999999  30.0 -5.25  20.514278  5.776829  0.786013\n",
       " 4 2018-01-31 23:59:59.999999999  30.0 -5.00  20.429099  5.704336  0.661095,\n",
       "                            time   lat   lon  jelly_count  fish_index\n",
       " 0 2018-01-31 23:59:59.999999999  30.0 -6.00            6    7.157358\n",
       " 1 2018-01-31 23:59:59.999999999  30.0 -5.75            5    7.110173\n",
       " 2 2018-01-31 23:59:59.999999999  30.0 -5.50            5    7.285947\n",
       " 3 2018-01-31 23:59:59.999999999  30.0 -5.25            4    7.602903\n",
       " 4 2018-01-31 23:59:59.999999999  30.0 -5.00            7    6.961281)"
      ]
     },
     "execution_count": 3,
     "metadata": {},
     "output_type": "execute_result"
    }
   ],
   "execution_count": 3
  },
  {
   "cell_type": "markdown",
   "id": "f1069314",
   "metadata": {},
   "source": [
    "\n",
    "## Features & Labels\n"
   ]
  },
  {
   "cell_type": "code",
   "id": "7c5d5864",
   "metadata": {
    "ExecuteTime": {
     "end_time": "2025-10-01T03:59:01.878889Z",
     "start_time": "2025-10-01T03:58:58.689396Z"
    }
   },
   "source": [
    "\n",
    "def monthly_climatology(df, var, years=(2018,2020)):\n",
    "    base = df[(df[\"time\"].dt.year>=years[0]) & (df[\"time\"].dt.year<=years[1])].copy()\n",
    "    base[\"month\"] = base[\"time\"].dt.month\n",
    "    return base.groupby([\"lat\",\"lon\",\"month\"])[var].mean().rename(f\"{var}_clim\").reset_index()\n",
    "\n",
    "def add_anomaly(df, var, clim):\n",
    "    tmp = df.copy()\n",
    "    tmp[\"month\"] = tmp[\"time\"].dt.month\n",
    "    tmp = tmp.merge(clim, on=[\"lat\",\"lon\",\"month\"], how=\"left\")\n",
    "    tmp[f\"{var}_anom\"] = tmp[var] - tmp[f\"{var}_clim\"]\n",
    "    tmp.drop(columns=[\"month\", f\"{var}_clim\"], inplace=True)\n",
    "    return tmp\n",
    "\n",
    "sst_clim = monthly_climatology(env_df, \"sst\", years=(2018,2020))\n",
    "o2_clim  = monthly_climatology(env_df, \"o2\", years=(2018,2020))\n",
    "chla_clim= monthly_climatology(env_df, \"chla\", years=(2018,2020))\n",
    "\n",
    "envA = add_anomaly(env_df, \"sst\", sst_clim)\n",
    "envA = add_anomaly(envA, \"o2\", o2_clim)\n",
    "envA = add_anomaly(envA, \"chla\", chla_clim)\n",
    "\n",
    "full = bio_df.merge(envA, on=[\"time\",\"lat\",\"lon\"], how=\"left\")\n",
    "\n",
    "def jelly_index(series):\n",
    "    return np.log1p(series)\n",
    "\n",
    "def fish_index(series):\n",
    "    return (series - series.mean())/ (series.std(ddof=0)+1e-6)\n",
    "\n",
    "full[\"JellyIdx\"] = full.groupby([\"lat\",\"lon\"])[\"jelly_count\"].transform(jelly_index)\n",
    "full[\"FishIdx\"]  = full.groupby([\"lat\",\"lon\"])[\"fish_index\"].transform(fish_index)\n",
    "\n",
    "full[\"flip_label_now\"] = (full[\"JellyIdx\"] > (full[\"FishIdx\"] + 0.3)).astype(int)\n",
    "\n",
    "full.head()\n"
   ],
   "outputs": [
    {
     "data": {
      "text/plain": [
       "                           time   lat   lon  jelly_count  fish_index  \\\n",
       "0 2018-01-31 23:59:59.999999999  30.0 -6.00            6    7.157358   \n",
       "1 2018-01-31 23:59:59.999999999  30.0 -5.75            5    7.110173   \n",
       "2 2018-01-31 23:59:59.999999999  30.0 -5.50            5    7.285947   \n",
       "3 2018-01-31 23:59:59.999999999  30.0 -5.25            4    7.602903   \n",
       "4 2018-01-31 23:59:59.999999999  30.0 -5.00            7    6.961281   \n",
       "\n",
       "         sst        o2      chla  sst_anom   o2_anom  chla_anom  JellyIdx  \\\n",
       "0  20.485524  5.793087  0.894355 -0.053645  0.015024   0.075799  1.945910   \n",
       "1  20.798419  5.788292  0.807173  0.551353  0.042790  -0.015603  1.791759   \n",
       "2  20.820274  5.838372  0.784639  0.460124  0.005365  -0.031282  1.791759   \n",
       "3  20.514278  5.776829  0.786013  0.017389  0.003728  -0.120717  1.609438   \n",
       "4  20.429099  5.704336  0.661095 -0.011816 -0.065919  -0.129312  2.079442   \n",
       "\n",
       "    FishIdx  flip_label_now  \n",
       "0 -0.525034               1  \n",
       "1 -0.811579               1  \n",
       "2 -0.244026               1  \n",
       "3  0.146534               1  \n",
       "4 -0.915497               1  "
      ],
      "text/html": [
       "<div>\n",
       "<style scoped>\n",
       "    .dataframe tbody tr th:only-of-type {\n",
       "        vertical-align: middle;\n",
       "    }\n",
       "\n",
       "    .dataframe tbody tr th {\n",
       "        vertical-align: top;\n",
       "    }\n",
       "\n",
       "    .dataframe thead th {\n",
       "        text-align: right;\n",
       "    }\n",
       "</style>\n",
       "<table border=\"1\" class=\"dataframe\">\n",
       "  <thead>\n",
       "    <tr style=\"text-align: right;\">\n",
       "      <th></th>\n",
       "      <th>time</th>\n",
       "      <th>lat</th>\n",
       "      <th>lon</th>\n",
       "      <th>jelly_count</th>\n",
       "      <th>fish_index</th>\n",
       "      <th>sst</th>\n",
       "      <th>o2</th>\n",
       "      <th>chla</th>\n",
       "      <th>sst_anom</th>\n",
       "      <th>o2_anom</th>\n",
       "      <th>chla_anom</th>\n",
       "      <th>JellyIdx</th>\n",
       "      <th>FishIdx</th>\n",
       "      <th>flip_label_now</th>\n",
       "    </tr>\n",
       "  </thead>\n",
       "  <tbody>\n",
       "    <tr>\n",
       "      <th>0</th>\n",
       "      <td>2018-01-31 23:59:59.999999999</td>\n",
       "      <td>30.0</td>\n",
       "      <td>-6.00</td>\n",
       "      <td>6</td>\n",
       "      <td>7.157358</td>\n",
       "      <td>20.485524</td>\n",
       "      <td>5.793087</td>\n",
       "      <td>0.894355</td>\n",
       "      <td>-0.053645</td>\n",
       "      <td>0.015024</td>\n",
       "      <td>0.075799</td>\n",
       "      <td>1.945910</td>\n",
       "      <td>-0.525034</td>\n",
       "      <td>1</td>\n",
       "    </tr>\n",
       "    <tr>\n",
       "      <th>1</th>\n",
       "      <td>2018-01-31 23:59:59.999999999</td>\n",
       "      <td>30.0</td>\n",
       "      <td>-5.75</td>\n",
       "      <td>5</td>\n",
       "      <td>7.110173</td>\n",
       "      <td>20.798419</td>\n",
       "      <td>5.788292</td>\n",
       "      <td>0.807173</td>\n",
       "      <td>0.551353</td>\n",
       "      <td>0.042790</td>\n",
       "      <td>-0.015603</td>\n",
       "      <td>1.791759</td>\n",
       "      <td>-0.811579</td>\n",
       "      <td>1</td>\n",
       "    </tr>\n",
       "    <tr>\n",
       "      <th>2</th>\n",
       "      <td>2018-01-31 23:59:59.999999999</td>\n",
       "      <td>30.0</td>\n",
       "      <td>-5.50</td>\n",
       "      <td>5</td>\n",
       "      <td>7.285947</td>\n",
       "      <td>20.820274</td>\n",
       "      <td>5.838372</td>\n",
       "      <td>0.784639</td>\n",
       "      <td>0.460124</td>\n",
       "      <td>0.005365</td>\n",
       "      <td>-0.031282</td>\n",
       "      <td>1.791759</td>\n",
       "      <td>-0.244026</td>\n",
       "      <td>1</td>\n",
       "    </tr>\n",
       "    <tr>\n",
       "      <th>3</th>\n",
       "      <td>2018-01-31 23:59:59.999999999</td>\n",
       "      <td>30.0</td>\n",
       "      <td>-5.25</td>\n",
       "      <td>4</td>\n",
       "      <td>7.602903</td>\n",
       "      <td>20.514278</td>\n",
       "      <td>5.776829</td>\n",
       "      <td>0.786013</td>\n",
       "      <td>0.017389</td>\n",
       "      <td>0.003728</td>\n",
       "      <td>-0.120717</td>\n",
       "      <td>1.609438</td>\n",
       "      <td>0.146534</td>\n",
       "      <td>1</td>\n",
       "    </tr>\n",
       "    <tr>\n",
       "      <th>4</th>\n",
       "      <td>2018-01-31 23:59:59.999999999</td>\n",
       "      <td>30.0</td>\n",
       "      <td>-5.00</td>\n",
       "      <td>7</td>\n",
       "      <td>6.961281</td>\n",
       "      <td>20.429099</td>\n",
       "      <td>5.704336</td>\n",
       "      <td>0.661095</td>\n",
       "      <td>-0.011816</td>\n",
       "      <td>-0.065919</td>\n",
       "      <td>-0.129312</td>\n",
       "      <td>2.079442</td>\n",
       "      <td>-0.915497</td>\n",
       "      <td>1</td>\n",
       "    </tr>\n",
       "  </tbody>\n",
       "</table>\n",
       "</div>"
      ]
     },
     "execution_count": 4,
     "metadata": {},
     "output_type": "execute_result"
    }
   ],
   "execution_count": 4
  },
  {
   "cell_type": "code",
   "id": "68aaed99",
   "metadata": {
    "ExecuteTime": {
     "end_time": "2025-10-01T04:02:42.851290Z",
     "start_time": "2025-10-01T03:59:01.907595Z"
    }
   },
   "source": [
    "\n",
    "def build_samples(df: pd.DataFrame, lags=12, future_min=3, future_max=6):\n",
    "    samples = []\n",
    "    df = df.sort_values([\"lat\",\"lon\",\"time\"]).reset_index(drop=True)\n",
    "    grouped = df.groupby([\"lat\",\"lon\"], sort=False)\n",
    "    for (lat, lon), g in grouped:\n",
    "        g = g.reset_index(drop=True)\n",
    "        for i in range(lags, len(g)-future_max):\n",
    "            past = g.iloc[i-lags:i]\n",
    "            fut  = g.iloc[i+future_min:i+future_max+1]\n",
    "            if fut.empty: \n",
    "                continue\n",
    "            feat = {\"lat\": lat, \"lon\": lon, \"time\": g.loc[i, \"time\"]}\n",
    "            for var in [\"JellyIdx\",\"FishIdx\",\"sst_anom\",\"o2_anom\",\"chla_anom\"]:\n",
    "                feat[f\"{var}_last\"] = past[var].iloc[-1]\n",
    "                feat[f\"{var}_mean12\"] = past[var].mean()\n",
    "                feat[f\"{var}_std12\"]  = past[var].std(ddof=0)\n",
    "            y = 1 if fut[\"flip_label_now\"].mean() >= 0.5 else 0\n",
    "            feat[\"y_flip_future\"] = y\n",
    "            samples.append(feat)\n",
    "    return pd.DataFrame(samples)\n",
    "\n",
    "samples = build_samples(full, lags=12, future_min=3, future_max=6)\n",
    "samples.shape, samples.head()\n"
   ],
   "outputs": [
    {
     "data": {
      "text/plain": [
       "((725010, 19),\n",
       "     lat  lon                          time  JellyIdx_last  JellyIdx_mean12  \\\n",
       " 0  30.0 -6.0 2019-01-31 23:59:59.999999999       1.386294         1.800559   \n",
       " 1  30.0 -6.0 2019-02-28 23:59:59.999999999       1.791759         1.787713   \n",
       " 2  30.0 -6.0 2019-03-31 23:59:59.999999999       2.197225         1.836695   \n",
       " 3  30.0 -6.0 2019-04-30 23:59:59.999999999       1.945910         1.806972   \n",
       " 4  30.0 -6.0 2019-05-31 23:59:59.999999999       1.791759         1.782998   \n",
       " \n",
       "    JellyIdx_std12  FishIdx_last  FishIdx_mean12  FishIdx_std12  sst_anom_last  \\\n",
       " 0        0.330247      0.856802        0.381458       1.083645       0.163005   \n",
       " 1        0.327329     -0.600433        0.375175       1.089088      -0.103050   \n",
       " 2        0.340692     -0.971019        0.324842       1.135207      -0.127442   \n",
       " 3        0.313200     -0.756930        0.340229       1.119073      -0.141257   \n",
       " 4        0.302245     -0.474022        0.392471       1.063847      -0.011125   \n",
       " \n",
       "    sst_anom_mean12  sst_anom_std12  o2_anom_last  o2_anom_mean12  \\\n",
       " 0         0.036593        0.181585      0.060338        0.020039   \n",
       " 1         0.032475        0.184126     -0.003071        0.018531   \n",
       " 2         0.023054        0.189108     -0.050215        0.007563   \n",
       " 3        -0.020130        0.160342      0.004798        0.007063   \n",
       " 4        -0.018849        0.160347     -0.029192        0.000764   \n",
       " \n",
       "    o2_anom_std12  chla_anom_last  chla_anom_mean12  chla_anom_std12  \\\n",
       " 0       0.047071        0.104847          0.017973         0.066083   \n",
       " 1       0.047496       -0.111938          0.002329         0.072457   \n",
       " 2       0.046903       -0.037652          0.002490         0.072366   \n",
       " 3       0.046898       -0.091830         -0.013894         0.069556   \n",
       " 4       0.046265        0.065261         -0.011937         0.071400   \n",
       " \n",
       "    y_flip_future  \n",
       " 0              1  \n",
       " 1              1  \n",
       " 2              1  \n",
       " 3              1  \n",
       " 4              1  )"
      ]
     },
     "execution_count": 5,
     "metadata": {},
     "output_type": "execute_result"
    }
   ],
   "execution_count": 5
  },
  {
   "cell_type": "markdown",
   "id": "407fc506",
   "metadata": {},
   "source": [
    "\n",
    "## Train a simple, explainable model\n"
   ]
  },
  {
   "cell_type": "code",
   "id": "32532e33",
   "metadata": {
    "ExecuteTime": {
     "end_time": "2025-10-01T04:02:44.782346Z",
     "start_time": "2025-10-01T04:02:42.987706Z"
    }
   },
   "source": [
    "\n",
    "FEATURES = [c for c in samples.columns if c not in [\"lat\",\"lon\",\"time\",\"y_flip_future\"]]\n",
    "X = samples[FEATURES].values\n",
    "y = samples[\"y_flip_future\"].values\n",
    "\n",
    "from sklearn.utils import shuffle\n",
    "X, y = shuffle(X, y, random_state=42)\n",
    "\n",
    "from sklearn.model_selection import train_test_split\n",
    "X_tr, X_te, y_tr, y_te = train_test_split(X, y, test_size=0.25, random_state=42, stratify=y)\n",
    "\n",
    "from sklearn.linear_model import LogisticRegression\n",
    "from sklearn.metrics import roc_auc_score, brier_score_loss\n",
    "\n",
    "clf = LogisticRegression(max_iter=500, class_weight=\"balanced\")\n",
    "clf.fit(X_tr, y_tr)\n",
    "probs = clf.predict_proba(X_te)[:,1]\n",
    "\n",
    "auc = roc_auc_score(y_te, probs)\n",
    "brier = brier_score_loss(y_te, probs)\n",
    "\n",
    "print(f\"AUC = {auc:.3f}  |  Brier = {brier:.3f}\")\n"
   ],
   "outputs": [
    {
     "name": "stdout",
     "output_type": "stream",
     "text": [
      "AUC = 0.810  |  Brier = 0.187\n"
     ]
    }
   ],
   "execution_count": 6
  },
  {
   "cell_type": "markdown",
   "id": "40cd9740",
   "metadata": {},
   "source": [
    "\n",
    "## Flip‑Risk Map (next 6 months)\n"
   ]
  },
  {
   "cell_type": "code",
   "id": "b344a96d",
   "metadata": {
    "ExecuteTime": {
     "end_time": "2025-10-01T04:02:48.416952Z",
     "start_time": "2025-10-01T04:02:44.856110Z"
    }
   },
   "source": [
    "\n",
    "def latest_month(df):\n",
    "    return df[\"time\"].max()\n",
    "\n",
    "T_latest = latest_month(full)\n",
    "\n",
    "def features_for_month(df, month, lags=12):\n",
    "    out = []\n",
    "    dfm = df[df[\"time\"]<=month].copy()\n",
    "    grouped = dfm.groupby([\"lat\",\"lon\"], sort=False)\n",
    "    for (lat, lon), g in grouped:\n",
    "        g = g.sort_values(\"time\")\n",
    "        if len(g) < lags:\n",
    "            continue\n",
    "        past = g.iloc[-lags:]\n",
    "        feat = {\"lat\": lat, \"lon\": lon}\n",
    "        for var in [\"JellyIdx\",\"FishIdx\",\"sst_anom\",\"o2_anom\",\"chla_anom\"]:\n",
    "            feat[f\"{var}_last\"] = past[var].iloc[-1]\n",
    "            feat[f\"{var}_mean12\"] = past[var].mean()\n",
    "            feat[f\"{var}_std12\"]  = past[var].std(ddof=0)\n",
    "        out.append(feat)\n",
    "    return pd.DataFrame(out)\n",
    "\n",
    "X_latest = features_for_month(full, T_latest, lags=12)\n",
    "X_latest_mat = X_latest[FEATURES].values\n",
    "p_latest = clf.predict_proba(X_latest_mat)[:,1]\n",
    "\n",
    "flipmap = X_latest[[\"lat\",\"lon\"]].copy()\n",
    "flipmap[\"flip_risk\"] = p_latest\n",
    "\n",
    "flipmap.head(), flipmap[\"flip_risk\"].describe()\n"
   ],
   "outputs": [
    {
     "data": {
      "text/plain": [
       "(    lat   lon  flip_risk\n",
       " 0  30.0 -6.00   0.838971\n",
       " 1  30.0 -5.75   0.943676\n",
       " 2  30.0 -5.50   0.946365\n",
       " 3  30.0 -5.25   0.691310\n",
       " 4  30.0 -5.00   0.946936,\n",
       " count    10985.000000\n",
       " mean         0.799341\n",
       " std          0.141593\n",
       " min          0.121192\n",
       " 25%          0.725051\n",
       " 50%          0.833300\n",
       " 75%          0.907840\n",
       " max          0.996054\n",
       " Name: flip_risk, dtype: float64)"
      ]
     },
     "execution_count": 7,
     "metadata": {},
     "output_type": "execute_result"
    }
   ],
   "execution_count": 7
  },
  {
   "cell_type": "code",
   "id": "8cad2ba5",
   "metadata": {
    "ExecuteTime": {
     "end_time": "2025-10-01T04:02:48.945956Z",
     "start_time": "2025-10-01T04:02:48.440294Z"
    }
   },
   "source": [
    "\n",
    "def plot_flipmap(df, title=\"Flip‑Risk (next 6 months)\"):\n",
    "    pivot = df.pivot_table(index=\"lat\", columns=\"lon\", values=\"flip_risk\", aggfunc=\"mean\")\n",
    "    pivot = pivot.sort_index(ascending=True)\n",
    "    plt.figure(figsize=(9,6))\n",
    "    im = plt.imshow(pivot.values, origin=\"lower\",\n",
    "                    extent=[pivot.columns.min(), pivot.columns.max(), pivot.index.min(), pivot.index.max()],\n",
    "                    vmin=0, vmax=1, aspect=\"auto\")\n",
    "    plt.colorbar(im, label=\"Flip‑Risk (0..1)\")\n",
    "    plt.title(title)\n",
    "    plt.xlabel(\"Longitude\"); plt.ylabel(\"Latitude\")\n",
    "    plt.tight_layout()\n",
    "    plt.savefig(f\"outputs_parviflo/fliprisk_map.png\", dpi=160)\n",
    "    plt.show()\n",
    "\n",
    "plot_flipmap(flipmap)\n"
   ],
   "outputs": [
    {
     "data": {
      "text/plain": [
       "<Figure size 900x600 with 2 Axes>"
      ],
      "image/png": "[encoded data removed]"
     },
     "metadata": {},
     "output_type": "display_data"
    }
   ],
   "execution_count": 8
  },
  {
   "cell_type": "markdown",
   "id": "3aea1bba",
   "metadata": {},
   "source": [
    "\n",
    "## Hotspot Watch‑List\n"
   ]
  },
  {
   "cell_type": "code",
   "id": "dd1728f8",
   "metadata": {
    "ExecuteTime": {
     "end_time": "2025-10-01T04:02:48.974644Z",
     "start_time": "2025-10-01T04:02:48.967860Z"
    }
   },
   "source": [
    "\n",
    "def make_demo_zones():\n",
    "    lon_splits = np.linspace(BBOX[0], BBOX[2], 4)\n",
    "    lat_splits = np.linspace(BBOX[1], BBOX[3], 3)\n",
    "    zones = []\n",
    "    zid = 1\n",
    "    for i in range(len(lat_splits)-1):\n",
    "        for j in range(len(lon_splits)-1):\n",
    "            zones.append({\n",
    "                \"zone_id\": f\"Z{zid}\",\n",
    "                \"lat_min\": float(lat_splits[i]), \"lat_max\": float(lat_splits[i+1]),\n",
    "                \"lon_min\": float(lon_splits[j]), \"lon_max\": float(lon_splits[j+1])\n",
    "            })\n",
    "            zid += 1\n",
    "    return pd.DataFrame(zones)\n",
    "\n",
    "zones = make_demo_zones()\n",
    "zones\n"
   ],
   "outputs": [
    {
     "data": {
      "text/plain": [
       "  zone_id  lat_min  lat_max  lon_min  lon_max\n",
       "0      Z1     30.0     38.0     -6.0      8.0\n",
       "1      Z2     30.0     38.0      8.0     22.0\n",
       "2      Z3     30.0     38.0     22.0     36.0\n",
       "3      Z4     38.0     46.0     -6.0      8.0\n",
       "4      Z5     38.0     46.0      8.0     22.0\n",
       "5      Z6     38.0     46.0     22.0     36.0"
      ],
      "text/html": [
       "<div>\n",
       "<style scoped>\n",
       "    .dataframe tbody tr th:only-of-type {\n",
       "        vertical-align: middle;\n",
       "    }\n",
       "\n",
       "    .dataframe tbody tr th {\n",
       "        vertical-align: top;\n",
       "    }\n",
       "\n",
       "    .dataframe thead th {\n",
       "        text-align: right;\n",
       "    }\n",
       "</style>\n",
       "<table border=\"1\" class=\"dataframe\">\n",
       "  <thead>\n",
       "    <tr style=\"text-align: right;\">\n",
       "      <th></th>\n",
       "      <th>zone_id</th>\n",
       "      <th>lat_min</th>\n",
       "      <th>lat_max</th>\n",
       "      <th>lon_min</th>\n",
       "      <th>lon_max</th>\n",
       "    </tr>\n",
       "  </thead>\n",
       "  <tbody>\n",
       "    <tr>\n",
       "      <th>0</th>\n",
       "      <td>Z1</td>\n",
       "      <td>30.0</td>\n",
       "      <td>38.0</td>\n",
       "      <td>-6.0</td>\n",
       "      <td>8.0</td>\n",
       "    </tr>\n",
       "    <tr>\n",
       "      <th>1</th>\n",
       "      <td>Z2</td>\n",
       "      <td>30.0</td>\n",
       "      <td>38.0</td>\n",
       "      <td>8.0</td>\n",
       "      <td>22.0</td>\n",
       "    </tr>\n",
       "    <tr>\n",
       "      <th>2</th>\n",
       "      <td>Z3</td>\n",
       "      <td>30.0</td>\n",
       "      <td>38.0</td>\n",
       "      <td>22.0</td>\n",
       "      <td>36.0</td>\n",
       "    </tr>\n",
       "    <tr>\n",
       "      <th>3</th>\n",
       "      <td>Z4</td>\n",
       "      <td>38.0</td>\n",
       "      <td>46.0</td>\n",
       "      <td>-6.0</td>\n",
       "      <td>8.0</td>\n",
       "    </tr>\n",
       "    <tr>\n",
       "      <th>4</th>\n",
       "      <td>Z5</td>\n",
       "      <td>38.0</td>\n",
       "      <td>46.0</td>\n",
       "      <td>8.0</td>\n",
       "      <td>22.0</td>\n",
       "    </tr>\n",
       "    <tr>\n",
       "      <th>5</th>\n",
       "      <td>Z6</td>\n",
       "      <td>38.0</td>\n",
       "      <td>46.0</td>\n",
       "      <td>22.0</td>\n",
       "      <td>36.0</td>\n",
       "    </tr>\n",
       "  </tbody>\n",
       "</table>\n",
       "</div>"
      ]
     },
     "execution_count": 9,
     "metadata": {},
     "output_type": "execute_result"
    }
   ],
   "execution_count": 9
  },
  {
   "cell_type": "code",
   "id": "d05e4a6c",
   "metadata": {
    "ExecuteTime": {
     "end_time": "2025-10-01T04:03:39.280548Z",
     "start_time": "2025-10-01T04:02:49.016061Z"
    }
   },
   "source": [
    "\n",
    "def zone_join(df, zones):\n",
    "    out = []\n",
    "    for _, z in zones.iterrows():\n",
    "        sel = df[(df[\"lat\"]>=z.lat_min)&(df[\"lat\"]<z.lat_max)&\n",
    "                 (df[\"lon\"]>=z.lon_min)&(df[\"lon\"]<z.lon_max)]\n",
    "        tmp = sel.copy()\n",
    "        tmp[\"zone_id\"] = z.zone_id\n",
    "        out.append(tmp)\n",
    "    if not out:\n",
    "        return df.assign(zone_id=\"Z0\")\n",
    "    return pd.concat(out, ignore_index=True)\n",
    "\n",
    "def monthly_predictions(df_full, months_back=12, lags=12):\n",
    "    last_month = df_full[\"time\"].max()\n",
    "    months = pd.period_range((last_month - pd.offsets.MonthEnd(months_back)).to_period(\"M\").start_time, last_month, freq=\"M\")\n",
    "    pred_rows = []\n",
    "    for p in months:\n",
    "        ctx = features_for_month(df_full, p.to_timestamp(how=\"end\"), lags=lags)\n",
    "        if ctx.empty: \n",
    "            continue\n",
    "        probs = clf.predict_proba(ctx[FEATURES].values)[:,1]\n",
    "        tmp = ctx[[\"lat\",\"lon\"]].copy()\n",
    "        tmp[\"time\"] = p.to_timestamp(how=\"end\")\n",
    "        tmp[\"flip_risk\"] = probs\n",
    "        pred_rows.append(tmp)\n",
    "    return pd.concat(pred_rows, ignore_index=True) if pred_rows else pd.DataFrame(columns=[\"lat\",\"lon\",\"time\",\"flip_risk\"])\n",
    "\n",
    "risk_series = monthly_predictions(full, months_back=12, lags=12)\n",
    "risk_series.head()\n"
   ],
   "outputs": [
    {
     "data": {
      "text/plain": [
       "    lat   lon                          time  flip_risk\n",
       "0  30.0 -6.00 2023-12-31 23:59:59.999999999   0.809414\n",
       "1  30.0 -5.75 2023-12-31 23:59:59.999999999   0.829757\n",
       "2  30.0 -5.50 2023-12-31 23:59:59.999999999   0.936064\n",
       "3  30.0 -5.25 2023-12-31 23:59:59.999999999   0.943026\n",
       "4  30.0 -5.00 2023-12-31 23:59:59.999999999   0.917428"
      ],
      "text/html": [
       "<div>\n",
       "<style scoped>\n",
       "    .dataframe tbody tr th:only-of-type {\n",
       "        vertical-align: middle;\n",
       "    }\n",
       "\n",
       "    .dataframe tbody tr th {\n",
       "        vertical-align: top;\n",
       "    }\n",
       "\n",
       "    .dataframe thead th {\n",
       "        text-align: right;\n",
       "    }\n",
       "</style>\n",
       "<table border=\"1\" class=\"dataframe\">\n",
       "  <thead>\n",
       "    <tr style=\"text-align: right;\">\n",
       "      <th></th>\n",
       "      <th>lat</th>\n",
       "      <th>lon</th>\n",
       "      <th>time</th>\n",
       "      <th>flip_risk</th>\n",
       "    </tr>\n",
       "  </thead>\n",
       "  <tbody>\n",
       "    <tr>\n",
       "      <th>0</th>\n",
       "      <td>30.0</td>\n",
       "      <td>-6.00</td>\n",
       "      <td>2023-12-31 23:59:59.999999999</td>\n",
       "      <td>0.809414</td>\n",
       "    </tr>\n",
       "    <tr>\n",
       "      <th>1</th>\n",
       "      <td>30.0</td>\n",
       "      <td>-5.75</td>\n",
       "      <td>2023-12-31 23:59:59.999999999</td>\n",
       "      <td>0.829757</td>\n",
       "    </tr>\n",
       "    <tr>\n",
       "      <th>2</th>\n",
       "      <td>30.0</td>\n",
       "      <td>-5.50</td>\n",
       "      <td>2023-12-31 23:59:59.999999999</td>\n",
       "      <td>0.936064</td>\n",
       "    </tr>\n",
       "    <tr>\n",
       "      <th>3</th>\n",
       "      <td>30.0</td>\n",
       "      <td>-5.25</td>\n",
       "      <td>2023-12-31 23:59:59.999999999</td>\n",
       "      <td>0.943026</td>\n",
       "    </tr>\n",
       "    <tr>\n",
       "      <th>4</th>\n",
       "      <td>30.0</td>\n",
       "      <td>-5.00</td>\n",
       "      <td>2023-12-31 23:59:59.999999999</td>\n",
       "      <td>0.917428</td>\n",
       "    </tr>\n",
       "  </tbody>\n",
       "</table>\n",
       "</div>"
      ]
     },
     "execution_count": 10,
     "metadata": {},
     "output_type": "execute_result"
    }
   ],
   "execution_count": 10
  },
  {
   "cell_type": "code",
   "id": "8d8d2b28",
   "metadata": {
    "ExecuteTime": {
     "end_time": "2025-10-01T04:03:39.967195Z",
     "start_time": "2025-10-01T04:03:39.912620Z"
    }
   },
   "source": [
    "\n",
    "from scipy.stats import theilslopes\n",
    "\n",
    "def zone_watchlist(risk_series, zones):\n",
    "    rz = zone_join(risk_series, zones)\n",
    "    rows = []\n",
    "    for zid, g in rz.groupby(\"zone_id\"):\n",
    "        if g.empty:\n",
    "            continue\n",
    "        mean_risk = g[g[\"time\"]==g[\"time\"].max()][\"flip_risk\"].mean()\n",
    "        g2 = g.groupby(\"time\")[\"flip_risk\"].mean().reset_index()\n",
    "        if len(g2) >= 3:\n",
    "            x = (g2[\"time\"] - g2[\"time\"].min()).dt.days.values/30.0\n",
    "            slope, intercept, _, _ = theilslopes(g2[\"flip_risk\"].values, x)\n",
    "        else:\n",
    "            slope, intercept = np.nan, np.nan\n",
    "        rows.append({\"zone_id\": zid, \"mean_risk\": mean_risk, \"trend\": slope})\n",
    "    out = pd.DataFrame(rows)\n",
    "    out[\"rank\"] = out.sort_values([\"trend\",\"mean_risk\"], ascending=[False,False])\\\n",
    "                     .reset_index(drop=True).index+1\n",
    "    return out.sort_values([\"rank\"])\n",
    "\n",
    "watchlist = zone_watchlist(risk_series, zones)\n",
    "watchlist\n"
   ],
   "outputs": [
    {
     "data": {
      "text/plain": [
       "  zone_id  mean_risk     trend  rank\n",
       "0      Z1   0.799756  0.033499     1\n",
       "1      Z2   0.796178  0.033294     2\n",
       "2      Z3   0.804123  0.032530     3\n",
       "3      Z4   0.794945  0.033419     4\n",
       "4      Z5   0.797821  0.033771     5\n",
       "5      Z6   0.794132  0.033363     6"
      ],
      "text/html": [
       "<div>\n",
       "<style scoped>\n",
       "    .dataframe tbody tr th:only-of-type {\n",
       "        vertical-align: middle;\n",
       "    }\n",
       "\n",
       "    .dataframe tbody tr th {\n",
       "        vertical-align: top;\n",
       "    }\n",
       "\n",
       "    .dataframe thead th {\n",
       "        text-align: right;\n",
       "    }\n",
       "</style>\n",
       "<table border=\"1\" class=\"dataframe\">\n",
       "  <thead>\n",
       "    <tr style=\"text-align: right;\">\n",
       "      <th></th>\n",
       "      <th>zone_id</th>\n",
       "      <th>mean_risk</th>\n",
       "      <th>trend</th>\n",
       "      <th>rank</th>\n",
       "    </tr>\n",
       "  </thead>\n",
       "  <tbody>\n",
       "    <tr>\n",
       "      <th>0</th>\n",
       "      <td>Z1</td>\n",
       "      <td>0.799756</td>\n",
       "      <td>0.033499</td>\n",
       "      <td>1</td>\n",
       "    </tr>\n",
       "    <tr>\n",
       "      <th>1</th>\n",
       "      <td>Z2</td>\n",
       "      <td>0.796178</td>\n",
       "      <td>0.033294</td>\n",
       "      <td>2</td>\n",
       "    </tr>\n",
       "    <tr>\n",
       "      <th>2</th>\n",
       "      <td>Z3</td>\n",
       "      <td>0.804123</td>\n",
       "      <td>0.032530</td>\n",
       "      <td>3</td>\n",
       "    </tr>\n",
       "    <tr>\n",
       "      <th>3</th>\n",
       "      <td>Z4</td>\n",
       "      <td>0.794945</td>\n",
       "      <td>0.033419</td>\n",
       "      <td>4</td>\n",
       "    </tr>\n",
       "    <tr>\n",
       "      <th>4</th>\n",
       "      <td>Z5</td>\n",
       "      <td>0.797821</td>\n",
       "      <td>0.033771</td>\n",
       "      <td>5</td>\n",
       "    </tr>\n",
       "    <tr>\n",
       "      <th>5</th>\n",
       "      <td>Z6</td>\n",
       "      <td>0.794132</td>\n",
       "      <td>0.033363</td>\n",
       "      <td>6</td>\n",
       "    </tr>\n",
       "  </tbody>\n",
       "</table>\n",
       "</div>"
      ]
     },
     "execution_count": 11,
     "metadata": {},
     "output_type": "execute_result"
    }
   ],
   "execution_count": 11
  },
  {
   "cell_type": "code",
   "id": "db34613e",
   "metadata": {
    "ExecuteTime": {
     "end_time": "2025-10-01T04:03:40.159243Z",
     "start_time": "2025-10-01T04:03:40.069880Z"
    }
   },
   "source": [
    "\n",
    "# Save outputs\n",
    "flipmap.to_csv(f\"{OUT_DIR}/fliprisk_grid.csv\", index=False)\n",
    "watchlist.to_csv(f\"{OUT_DIR}/hotspot_watchlist.csv\", index=False)\n",
    "\n",
    "payload = {\n",
    "    \"generated_at\": pd.Timestamp.utcnow().isoformat(),\n",
    "    \"bbox\": BBOX,\n",
    "    \"grid_deg\": GRID_DEG,\n",
    "    \"fliprisk\": flipmap.to_dict(orient=\"records\"),\n",
    "    \"watchlist\": watchlist.to_dict(orient=\"records\")\n",
    "}\n",
    "with open(f\"{OUT_DIR}/parviflo_payload.json\",\"w\") as f:\n",
    "    json.dump(payload, f, indent=2)\n",
    "\n",
    "print(\"Saved:\")\n",
    "print(f\"- {OUT_DIR}/fliprisk_grid.csv\")\n",
    "print(f\"- {OUT_DIR}/hotspot_watchlist.csv\")\n",
    "print(f\"- {OUT_DIR}/parviflo_payload.json\")\n",
    "print(f\"- {OUT_DIR}/fliprisk_map.png\")\n"
   ],
   "outputs": [
    {
     "name": "stdout",
     "output_type": "stream",
     "text": [
      "Saved:\n",
      "- outputs_parviflo/fliprisk_grid.csv\n",
      "- outputs_parviflo/hotspot_watchlist.csv\n",
      "- outputs_parviflo/parviflo_payload.json\n",
      "- outputs_parviflo/fliprisk_map.png\n"
     ]
    }
   ],
   "execution_count": 12
  },
  {
   "cell_type": "markdown",
   "id": "cf192f30",
   "metadata": {},
   "source": [
    "\n",
    "## What’s driving risk?\n"
   ]
  },
  {
   "cell_type": "code",
   "id": "92540bd9",
   "metadata": {
    "ExecuteTime": {
     "end_time": "2025-10-01T04:03:40.309639Z",
     "start_time": "2025-10-01T04:03:40.204568Z"
    }
   },
   "source": [
    "\n",
    "def plot_feature_contribs(clf, df_row, feature_names=FEATURES, title=\"Feature contributions\"):\n",
    "    coefs = clf.coef_[0]\n",
    "    x = df_row[feature_names].values\n",
    "    contribs = coefs * x\n",
    "    order = np.argsort(contribs)\n",
    "    names = np.array(feature_names)[order]\n",
    "    vals = contribs[order]\n",
    "\n",
    "    plt.figure(figsize=(7,6))\n",
    "    y = np.arange(len(vals))\n",
    "    plt.barh(y, vals)\n",
    "    plt.yticks(y, names)\n",
    "    plt.axvline(0, linestyle=\"--\")\n",
    "    plt.title(title)\n",
    "    plt.tight_layout()\n",
    "    plt.show()\n",
    "\n",
    "cell_max = flipmap.sort_values(\"flip_risk\", ascending=False).head(1)[[\"lat\",\"lon\"]].iloc[0]\n",
    "row = X_latest[(X_latest[\"lat\"]==cell_max[\"lat\"]) & (X_latest[\"lon\"]==cell_max[\"lon\"])].iloc[0]\n",
    "plot_feature_contribs(clf, row, title=f\"Drivers at lat={row['lat']:.2f}, lon={row['lon']:.2f}\")\n"
   ],
   "outputs": [
    {
     "data": {
      "text/plain": [
       "<Figure size 700x600 with 1 Axes>"
      ],
      "image/png": "[encoded data removed]"
     },
     "metadata": {},
     "output_type": "display_data"
    }
   ],
   "execution_count": 13
  },
  {
   "cell_type": "markdown",
   "id": "25e95b01",
   "metadata": {},
   "source": [
    "\n",
    "## (Optional) Live‑mode fetchers (stubs)\n"
   ]
  },
  {
   "cell_type": "code",
   "id": "aea5d074",
   "metadata": {
    "ExecuteTime": {
     "end_time": "2025-10-01T04:03:40.334678Z",
     "start_time": "2025-10-01T04:03:40.331294Z"
    }
   },
   "source": [
    "\n",
    "def fetch_obis_jelly_month(bbox: tuple, year:int, month:int) -> pd.DataFrame:\n",
    "    '''\n",
    "    TODO: Implement OBIS/JeDI request and grid counts.\n",
    "    Return columns: ['lat','lon','jelly_count'] for that (year, month)\n",
    "    '''\n",
    "    raise NotImplementedError(\"Implement when online.\")\n",
    "\n",
    "def fetch_ices_stock_table(assessment_key:int) -> pd.DataFrame:\n",
    "    '''\n",
    "    TODO: Implement ICES stock API fetch, compute fish index per area, map to grid.\n",
    "    Return per grid cell: ['lat','lon','fish_index'] for a given month.\n",
    "    '''\n",
    "    raise NotImplementedError(\"Implement when online.\")\n",
    "\n",
    "def fetch_erddap_chla_month(bbox, year:int, month:int) -> pd.DataFrame:\n",
    "    '''\n",
    "    TODO: Fetch monthly mean chlorophyll from ERDDAP for bbox.\n",
    "    Return columns: ['lat','lon','chla'] for that month.\n",
    "    '''\n",
    "    raise NotImplementedError(\"Implement when online.\")\n"
   ],
   "outputs": [],
   "execution_count": 14
  },
  {
   "cell_type": "markdown",
   "id": "d426670d",
   "metadata": {},
   "source": [
    "\n",
    "## Wrap‑up\n"
   ]
  },
  {
   "cell_type": "markdown",
   "id": "167bd868",
   "metadata": {},
   "source": [
    "\n",
    "- **Flip‑Risk Map** PNG and CSV (`outputs_parviflo/`)\n",
    "- **Hotspot Watch‑List** CSV\n",
    "- **JSON payload** for a web UI\n",
    "- Clean pipeline you can switch to live data\n"
   ]
  }
 ],
 "metadata": {
  "kernelspec": {
   "name": "python3",
   "language": "python",
   "display_name": "Python 3 (ipykernel)"
  }
 },
 "nbformat": 4,
 "nbformat_minor": 5
}
