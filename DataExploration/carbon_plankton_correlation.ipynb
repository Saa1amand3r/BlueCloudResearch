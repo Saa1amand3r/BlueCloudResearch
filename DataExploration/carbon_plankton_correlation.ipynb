{
 "nbformat": 4,
 "nbformat_minor": 5,
 "metadata": {
  "kernelspec": {
   "name": "python3",
   "language": "python",
   "display_name": "Python 3"
  },
  "language_info": {
   "name": "python",
   "version": "3.10"
  }
 },
 "cells": [
  {
   "cell_type": "markdown",
   "metadata": {},
   "source": [
    "# Carbon and Plankton Correlation",
    "",
    "This notebook combines the carbon observations explored in `carbon_data_exploration.ipynb` with the plankton observations from `jellyfish_plankton_data_exploration.ipynb`.",
    "",
    "We will:",
    "1. Load and clean the plankton observation dataset.",
    "2. Derive the shared spatio-temporal domain covered by the plankton data.",
    "3. Query the GLODAPv2 carbon dataset (via ERDDAP) over that domain.",
    "4. Sample the carbon fields at each plankton observation.",
    "5. Calculate correlation statistics and visualize the relationships."
   ],
   "id": "9d77d665431320f9"
  },
  {
   "cell_type": "code",
   "metadata": {
    "ExecuteTime": {
     "end_time": "2025-09-30T18:15:16.931729Z",
     "start_time": "2025-09-30T18:15:16.345658Z"
    }
   },
   "source": [
    "import pandas as pd\n",
    "\n",
    "import numpy as np\n",
    "\n",
    "import xarray as xr\n",
    "\n",
    "from erddapy import ERDDAP\n",
    "\n",
    "import matplotlib.pyplot as plt\n",
    "\n",
    "import seaborn as sns\n"
   ],
   "id": "eb3990626642cde3",
   "outputs": [],
   "execution_count": 1
  },
  {
   "cell_type": "markdown",
   "metadata": {},
   "source": [
    "## 1. Load and tidy the plankton observations",
    "",
    "We reuse the same source file handled in the plankton exploration notebook."
   ],
   "id": "6493dc9e947716c"
  },
  {
   "cell_type": "code",
   "metadata": {
    "ExecuteTime": {
     "end_time": "2025-09-30T18:15:23.250098Z",
     "start_time": "2025-09-30T18:15:19.486737Z"
    }
   },
   "source": [
    "plankton_raw = (\n",
    "    pd.read_csv('../data/JeDI.csv')\n",
    "      .replace('nd', pd.NA)\n",
    ")\n",
    "\n",
    "numeric_cols = [\n",
    "    'year', 'month', 'day', 'lat', 'lon',\n",
    "    'count_actual', 'density', 'density_integrated',\n",
    "    'biovolume', 'biovolume_integrated',\n",
    "    'weight_wet', 'weight_dry'\n",
    "]\n",
    "\n",
    "for col in numeric_cols:\n",
    "    if col in plankton_raw.columns:\n",
    "        plankton_raw[col] = pd.to_numeric(plankton_raw[col], errors='coerce')\n",
    "\n",
    "plankton = plankton_raw.copy()\n",
    "\n",
    "plankton['time'] = pd.to_datetime(\n",
    "    dict(year=plankton['year'], month=plankton['month'], day=plankton['day']),\n",
    "    errors='coerce'\n",
    ")\n",
    "\n",
    "plankton = plankton.dropna(subset=['lat', 'lon', 'time']).reset_index(drop=True)\n",
    "\n",
    "plankton['present'] = plankton['presence_absence'].eq('present').astype(int)\n",
    "\n",
    "plankton.head()\n"
   ],
   "id": "e8975c28a4879882",
   "outputs": [
    {
     "name": "stderr",
     "output_type": "stream",
     "text": [
      "/tmp/ipykernel_12559/2718241005.py:2: DtypeWarning: Columns (7,8,22,23,25,27) have mixed types. Specify dtype option on import or set low_memory=False.\n",
      "  pd.read_csv('../data/JeDI.csv')\n"
     ]
    },
    {
     "data": {
      "text/plain": [
       "             project_title        sub_project_title        owner_dataset  \\\n",
       "0  Barium_MediterraneanSea  Barium_MediterraneanSea  Gorsky_G_Stemmann_L   \n",
       "1  Barium_MediterraneanSea  Barium_MediterraneanSea  Gorsky_G_Stemmann_L   \n",
       "2  Barium_MediterraneanSea  Barium_MediterraneanSea  Gorsky_G_Stemmann_L   \n",
       "3  Barium_MediterraneanSea  Barium_MediterraneanSea  Gorsky_G_Stemmann_L   \n",
       "4  Barium_MediterraneanSea  Barium_MediterraneanSea  Gorsky_G_Stemmann_L   \n",
       "\n",
       "     contact                                      location_name     date  \\\n",
       "0  Stemman_L  Northwest_Mediterranean_Sea_Mediterranean_Inte...  3/23/03   \n",
       "1  Stemman_L  Northwest_Mediterranean_Sea_Mediterranean_Inte...  3/23/03   \n",
       "2  Stemman_L  Northwest_Mediterranean_Sea_Mediterranean_Inte...  3/23/03   \n",
       "3  Stemman_L  Northwest_Mediterranean_Sea_Mediterranean_Inte...  3/23/03   \n",
       "4  Stemman_L  Northwest_Mediterranean_Sea_Mediterranean_Inte...  3/23/03   \n",
       "\n",
       "   year  month   day time_local  ...  biovolume  biovolume_integrated  \\\n",
       "0  2003    3.0  23.0   12:14:00  ...        NaN                   NaN   \n",
       "1  2003    3.0  23.0   12:14:00  ...        NaN                   NaN   \n",
       "2  2003    3.0  23.0   12:14:00  ...        NaN                   NaN   \n",
       "3  2003    3.0  23.0   12:14:00  ...        NaN                   NaN   \n",
       "4  2003    3.0  23.0   12:14:00  ...        NaN                   NaN   \n",
       "\n",
       "  weight_wet weight_dry presence_absence          study_type  \\\n",
       "0        NaN        NaN           absent  monitoring_project   \n",
       "1        NaN        NaN           absent  monitoring_project   \n",
       "2        NaN        NaN           absent  monitoring_project   \n",
       "3        NaN        NaN           absent  monitoring_project   \n",
       "4        NaN        NaN           absent  monitoring_project   \n",
       "\n",
       "  accompanying_ancillary_data catch_per_effort       time present  \n",
       "0                          no             <NA> 2003-03-23       0  \n",
       "1                          no             <NA> 2003-03-23       0  \n",
       "2                          no             <NA> 2003-03-23       0  \n",
       "3                          no             <NA> 2003-03-23       0  \n",
       "4                          no             <NA> 2003-03-23       0  \n",
       "\n",
       "[5 rows x 39 columns]"
      ],
      "text/html": [
       "<div>\n",
       "<style scoped>\n",
       "    .dataframe tbody tr th:only-of-type {\n",
       "        vertical-align: middle;\n",
       "    }\n",
       "\n",
       "    .dataframe tbody tr th {\n",
       "        vertical-align: top;\n",
       "    }\n",
       "\n",
       "    .dataframe thead th {\n",
       "        text-align: right;\n",
       "    }\n",
       "</style>\n",
       "<table border=\"1\" class=\"dataframe\">\n",
       "  <thead>\n",
       "    <tr style=\"text-align: right;\">\n",
       "      <th></th>\n",
       "      <th>project_title</th>\n",
       "      <th>sub_project_title</th>\n",
       "      <th>owner_dataset</th>\n",
       "      <th>contact</th>\n",
       "      <th>location_name</th>\n",
       "      <th>date</th>\n",
       "      <th>year</th>\n",
       "      <th>month</th>\n",
       "      <th>day</th>\n",
       "      <th>time_local</th>\n",
       "      <th>...</th>\n",
       "      <th>biovolume</th>\n",
       "      <th>biovolume_integrated</th>\n",
       "      <th>weight_wet</th>\n",
       "      <th>weight_dry</th>\n",
       "      <th>presence_absence</th>\n",
       "      <th>study_type</th>\n",
       "      <th>accompanying_ancillary_data</th>\n",
       "      <th>catch_per_effort</th>\n",
       "      <th>time</th>\n",
       "      <th>present</th>\n",
       "    </tr>\n",
       "  </thead>\n",
       "  <tbody>\n",
       "    <tr>\n",
       "      <th>0</th>\n",
       "      <td>Barium_MediterraneanSea</td>\n",
       "      <td>Barium_MediterraneanSea</td>\n",
       "      <td>Gorsky_G_Stemmann_L</td>\n",
       "      <td>Stemman_L</td>\n",
       "      <td>Northwest_Mediterranean_Sea_Mediterranean_Inte...</td>\n",
       "      <td>3/23/03</td>\n",
       "      <td>2003</td>\n",
       "      <td>3.0</td>\n",
       "      <td>23.0</td>\n",
       "      <td>12:14:00</td>\n",
       "      <td>...</td>\n",
       "      <td>NaN</td>\n",
       "      <td>NaN</td>\n",
       "      <td>NaN</td>\n",
       "      <td>NaN</td>\n",
       "      <td>absent</td>\n",
       "      <td>monitoring_project</td>\n",
       "      <td>no</td>\n",
       "      <td>&lt;NA&gt;</td>\n",
       "      <td>2003-03-23</td>\n",
       "      <td>0</td>\n",
       "    </tr>\n",
       "    <tr>\n",
       "      <th>1</th>\n",
       "      <td>Barium_MediterraneanSea</td>\n",
       "      <td>Barium_MediterraneanSea</td>\n",
       "      <td>Gorsky_G_Stemmann_L</td>\n",
       "      <td>Stemman_L</td>\n",
       "      <td>Northwest_Mediterranean_Sea_Mediterranean_Inte...</td>\n",
       "      <td>3/23/03</td>\n",
       "      <td>2003</td>\n",
       "      <td>3.0</td>\n",
       "      <td>23.0</td>\n",
       "      <td>12:14:00</td>\n",
       "      <td>...</td>\n",
       "      <td>NaN</td>\n",
       "      <td>NaN</td>\n",
       "      <td>NaN</td>\n",
       "      <td>NaN</td>\n",
       "      <td>absent</td>\n",
       "      <td>monitoring_project</td>\n",
       "      <td>no</td>\n",
       "      <td>&lt;NA&gt;</td>\n",
       "      <td>2003-03-23</td>\n",
       "      <td>0</td>\n",
       "    </tr>\n",
       "    <tr>\n",
       "      <th>2</th>\n",
       "      <td>Barium_MediterraneanSea</td>\n",
       "      <td>Barium_MediterraneanSea</td>\n",
       "      <td>Gorsky_G_Stemmann_L</td>\n",
       "      <td>Stemman_L</td>\n",
       "      <td>Northwest_Mediterranean_Sea_Mediterranean_Inte...</td>\n",
       "      <td>3/23/03</td>\n",
       "      <td>2003</td>\n",
       "      <td>3.0</td>\n",
       "      <td>23.0</td>\n",
       "      <td>12:14:00</td>\n",
       "      <td>...</td>\n",
       "      <td>NaN</td>\n",
       "      <td>NaN</td>\n",
       "      <td>NaN</td>\n",
       "      <td>NaN</td>\n",
       "      <td>absent</td>\n",
       "      <td>monitoring_project</td>\n",
       "      <td>no</td>\n",
       "      <td>&lt;NA&gt;</td>\n",
       "      <td>2003-03-23</td>\n",
       "      <td>0</td>\n",
       "    </tr>\n",
       "    <tr>\n",
       "      <th>3</th>\n",
       "      <td>Barium_MediterraneanSea</td>\n",
       "      <td>Barium_MediterraneanSea</td>\n",
       "      <td>Gorsky_G_Stemmann_L</td>\n",
       "      <td>Stemman_L</td>\n",
       "      <td>Northwest_Mediterranean_Sea_Mediterranean_Inte...</td>\n",
       "      <td>3/23/03</td>\n",
       "      <td>2003</td>\n",
       "      <td>3.0</td>\n",
       "      <td>23.0</td>\n",
       "      <td>12:14:00</td>\n",
       "      <td>...</td>\n",
       "      <td>NaN</td>\n",
       "      <td>NaN</td>\n",
       "      <td>NaN</td>\n",
       "      <td>NaN</td>\n",
       "      <td>absent</td>\n",
       "      <td>monitoring_project</td>\n",
       "      <td>no</td>\n",
       "      <td>&lt;NA&gt;</td>\n",
       "      <td>2003-03-23</td>\n",
       "      <td>0</td>\n",
       "    </tr>\n",
       "    <tr>\n",
       "      <th>4</th>\n",
       "      <td>Barium_MediterraneanSea</td>\n",
       "      <td>Barium_MediterraneanSea</td>\n",
       "      <td>Gorsky_G_Stemmann_L</td>\n",
       "      <td>Stemman_L</td>\n",
       "      <td>Northwest_Mediterranean_Sea_Mediterranean_Inte...</td>\n",
       "      <td>3/23/03</td>\n",
       "      <td>2003</td>\n",
       "      <td>3.0</td>\n",
       "      <td>23.0</td>\n",
       "      <td>12:14:00</td>\n",
       "      <td>...</td>\n",
       "      <td>NaN</td>\n",
       "      <td>NaN</td>\n",
       "      <td>NaN</td>\n",
       "      <td>NaN</td>\n",
       "      <td>absent</td>\n",
       "      <td>monitoring_project</td>\n",
       "      <td>no</td>\n",
       "      <td>&lt;NA&gt;</td>\n",
       "      <td>2003-03-23</td>\n",
       "      <td>0</td>\n",
       "    </tr>\n",
       "  </tbody>\n",
       "</table>\n",
       "<p>5 rows × 39 columns</p>\n",
       "</div>"
      ]
     },
     "execution_count": 2,
     "metadata": {},
     "output_type": "execute_result"
    }
   ],
   "execution_count": 2
  },
  {
   "cell_type": "markdown",
   "metadata": {},
   "source": [
    "## 2. Determine the shared domain",
    "",
    "The ERDDAP query is limited to the spatial and temporal coverage of the plankton observations."
   ],
   "id": "3babc9269a9b6ee0"
  },
  {
   "cell_type": "code",
   "metadata": {
    "ExecuteTime": {
     "end_time": "2025-09-30T18:15:27.389611Z",
     "start_time": "2025-09-30T18:15:27.377111Z"
    }
   },
   "source": [
    "time_start = plankton['time'].min().strftime('%Y-%m-%dT00:00:00Z')\n",
    "time_end = plankton['time'].max().strftime('%Y-%m-%dT23:59:59Z')\n",
    "\n",
    "lat_min, lat_max = plankton['lat'].min(), plankton['lat'].max()\n",
    "lon_min, lon_max = plankton['lon'].min(), plankton['lon'].max()\n",
    "\n",
    "domain_summary = pd.Series({\n",
    "    'time_start': time_start,\n",
    "    'time_end': time_end,\n",
    "    'lat_min': lat_min,\n",
    "    'lat_max': lat_max,\n",
    "    'lon_min': lon_min,\n",
    "    'lon_max': lon_max,\n",
    "})\n",
    "\n",
    "domain_summary\n"
   ],
   "id": "e1e661ca09d821e",
   "outputs": [
    {
     "data": {
      "text/plain": [
       "time_start    1871-07-01T00:00:00Z\n",
       "time_end      2011-09-03T23:59:59Z\n",
       "lat_min                      -78.5\n",
       "lat_max                      88.74\n",
       "lon_min                     -180.0\n",
       "lon_max                      180.0\n",
       "dtype: object"
      ]
     },
     "execution_count": 3,
     "metadata": {},
     "output_type": "execute_result"
    }
   ],
   "execution_count": 3
  },
  {
   "cell_type": "markdown",
   "metadata": {},
   "source": [
    "## 3. Fetch the carbon fields from GLODAPv2",
    "",
    "We follow the same pattern used in the carbon exploration notebook, but constrain the query to the plankton domain."
   ],
   "id": "3edb30b62b91d4d6"
  },
  {
   "cell_type": "code",
   "metadata": {
    "ExecuteTime": {
     "end_time": "2025-09-30T18:16:01.819294Z",
     "start_time": "2025-09-30T18:15:58.786169Z"
    }
   },
   "source": [
    "e = ERDDAP(\n",
    "    server='https://erddap.emodnet.eu/erddap',\n",
    "    protocol='griddap'\n",
    ")\n",
    "\n",
    "e.dataset_id = 'GLODAPv2_2016b_CMEMS'\n",
    "\n",
    "e.griddap_initialize()\n",
    "\n",
    "e.variables = ['TCO2', 'TAlk', 'pHts25p0']\n",
    "\n",
    "e.constraints['time>='] = time_start\n",
    "e.constraints['time<='] = time_end\n",
    "\n",
    "# Convert longitudes to 0-360 range expected by the dataset\n",
    "e.constraints['latitude>='] = float(lat_min)\n",
    "e.constraints['latitude<='] = float(lat_max)\n",
    "e.constraints['longitude>='] = float((lon_min + 360) % 360)\n",
    "e.constraints['longitude<='] = float((lon_max + 360) % 360)\n",
    "\n",
    "carbon_ds = e.to_xarray()\n",
    "\n",
    "carbon_ds\n"
   ],
   "id": "9ac559a3e467f711",
   "outputs": [
    {
     "ename": "HTTPError",
     "evalue": "Error {\n    code=404;\n    message=\"Not Found: Your query produced no matching results. Query error: For variable=TCO2 axis#0=time Constraint=\\\"[(1871-07-01T00:00:00Z):1:(2011-09-03T23:59:59Z)]\\\": Start=\\\"1871-07-01T00:00:00Z\\\" is less than the axis minimum=2020-01-01T00:00:00Z (and even 1.562058432E9).\";\n}\n",
     "output_type": "error",
     "traceback": [
      "\u001B[31m---------------------------------------------------------------------------\u001B[39m",
      "\u001B[31mHTTPStatusError\u001B[39m                           Traceback (most recent call last)",
      "\u001B[36mFile \u001B[39m\u001B[32m~/PycharmProjects/BlueCloudResearch/.venv/lib/python3.13/site-packages/erddapy/core/url.py:71\u001B[39m, in \u001B[36m_urlopen\u001B[39m\u001B[34m(url, auth, **kwargs)\u001B[39m\n\u001B[32m     70\u001B[39m \u001B[38;5;28;01mtry\u001B[39;00m:\n\u001B[32m---> \u001B[39m\u001B[32m71\u001B[39m     \u001B[43mresponse\u001B[49m\u001B[43m.\u001B[49m\u001B[43mraise_for_status\u001B[49m\u001B[43m(\u001B[49m\u001B[43m)\u001B[49m\n\u001B[32m     72\u001B[39m \u001B[38;5;28;01mexcept\u001B[39;00m httpx.HTTPError \u001B[38;5;28;01mas\u001B[39;00m err:\n",
      "\u001B[36mFile \u001B[39m\u001B[32m~/PycharmProjects/BlueCloudResearch/.venv/lib/python3.13/site-packages/httpx/_models.py:829\u001B[39m, in \u001B[36mResponse.raise_for_status\u001B[39m\u001B[34m(self)\u001B[39m\n\u001B[32m    828\u001B[39m message = message.format(\u001B[38;5;28mself\u001B[39m, error_type=error_type)\n\u001B[32m--> \u001B[39m\u001B[32m829\u001B[39m \u001B[38;5;28;01mraise\u001B[39;00m HTTPStatusError(message, request=request, response=\u001B[38;5;28mself\u001B[39m)\n",
      "\u001B[31mHTTPStatusError\u001B[39m: Client error '404 ' for url 'https://erddap.emodnet.eu/erddap/griddap/GLODAPv2_2016b_CMEMS.nc?TCO2%5B%281871-07-01T00%3A00%3A00Z%29%3A1%3A%282011-09-03T23%3A59%3A59Z%29%5D%5B%280.0%29%3A1%3A%285500.0%29%5D%5B%28-78.5%29%3A1%3A%2888.74%29%5D%5B%28180.0%29%3A1%3A%28180.0%29%5D%2CTAlk%5B%281871-07-01T00%3A00%3A00Z%29%3A1%3A%282011-09-03T23%3A59%3A59Z%29%5D%5B%280.0%29%3A1%3A%285500.0%29%5D%5B%28-78.5%29%3A1%3A%2888.74%29%5D%5B%28180.0%29%3A1%3A%28180.0%29%5D%2CpHts25p0%5B%281871-07-01T00%3A00%3A00Z%29%3A1%3A%282011-09-03T23%3A59%3A59Z%29%5D%5B%280.0%29%3A1%3A%285500.0%29%5D%5B%28-78.5%29%3A1%3A%2888.74%29%5D%5B%28180.0%29%3A1%3A%28180.0%29%5D'\nFor more information check: https://developer.mozilla.org/en-US/docs/Web/HTTP/Status/404",
      "\nThe above exception was the direct cause of the following exception:\n",
      "\u001B[31mHTTPError\u001B[39m                                 Traceback (most recent call last)",
      "\u001B[36mCell\u001B[39m\u001B[36m \u001B[39m\u001B[32mIn[5]\u001B[39m\u001B[32m, line 21\u001B[39m\n\u001B[32m     18\u001B[39m e.constraints[\u001B[33m'\u001B[39m\u001B[33mlongitude>=\u001B[39m\u001B[33m'\u001B[39m] = \u001B[38;5;28mfloat\u001B[39m((lon_min + \u001B[32m360\u001B[39m) % \u001B[32m360\u001B[39m)\n\u001B[32m     19\u001B[39m e.constraints[\u001B[33m'\u001B[39m\u001B[33mlongitude<=\u001B[39m\u001B[33m'\u001B[39m] = \u001B[38;5;28mfloat\u001B[39m((lon_max + \u001B[32m360\u001B[39m) % \u001B[32m360\u001B[39m)\n\u001B[32m---> \u001B[39m\u001B[32m21\u001B[39m carbon_ds = \u001B[43me\u001B[49m\u001B[43m.\u001B[49m\u001B[43mto_xarray\u001B[49m\u001B[43m(\u001B[49m\u001B[43m)\u001B[49m\n\u001B[32m     23\u001B[39m carbon_ds\n",
      "\u001B[36mFile \u001B[39m\u001B[32m~/PycharmProjects/BlueCloudResearch/.venv/lib/python3.13/site-packages/erddapy/erddapy.py:458\u001B[39m, in \u001B[36mERDDAP.to_xarray\u001B[39m\u001B[34m(self, requests_kwargs, **kw)\u001B[39m\n\u001B[32m    456\u001B[39m \u001B[38;5;28;01melse\u001B[39;00m:\n\u001B[32m    457\u001B[39m     requests_kwargs = {\u001B[33m\"\u001B[39m\u001B[33mauth\u001B[39m\u001B[33m\"\u001B[39m: \u001B[38;5;28mself\u001B[39m.auth}\n\u001B[32m--> \u001B[39m\u001B[32m458\u001B[39m \u001B[38;5;28;01mreturn\u001B[39;00m \u001B[43mto_xarray\u001B[49m\u001B[43m(\u001B[49m\n\u001B[32m    459\u001B[39m \u001B[43m    \u001B[49m\u001B[43murl\u001B[49m\u001B[43m,\u001B[49m\n\u001B[32m    460\u001B[39m \u001B[43m    \u001B[49m\u001B[43mresponse\u001B[49m\u001B[43m,\u001B[49m\n\u001B[32m    461\u001B[39m \u001B[43m    \u001B[49m\u001B[43mrequests_kwargs\u001B[49m\u001B[43m,\u001B[49m\n\u001B[32m    462\u001B[39m \u001B[43m    \u001B[49m\u001B[43mxarray_kwargs\u001B[49m\u001B[43m=\u001B[49m\u001B[38;5;28;43mdict\u001B[39;49m\u001B[43m(\u001B[49m\u001B[43m*\u001B[49m\u001B[43m*\u001B[49m\u001B[43mkw\u001B[49m\u001B[43m)\u001B[49m\u001B[43m,\u001B[49m\n\u001B[32m    463\u001B[39m \u001B[43m\u001B[49m\u001B[43m)\u001B[49m\n",
      "\u001B[36mFile \u001B[39m\u001B[32m~/PycharmProjects/BlueCloudResearch/.venv/lib/python3.13/site-packages/erddapy/core/interfaces.py:84\u001B[39m, in \u001B[36mto_xarray\u001B[39m\u001B[34m(url, response, requests_kwargs, xarray_kwargs)\u001B[39m\n\u001B[32m     81\u001B[39m \u001B[38;5;28;01mif\u001B[39;00m response == \u001B[33m\"\u001B[39m\u001B[33mopendap\u001B[39m\u001B[33m\"\u001B[39m:\n\u001B[32m     82\u001B[39m     \u001B[38;5;28;01mreturn\u001B[39;00m xr.open_dataset(url, **(xarray_kwargs \u001B[38;5;129;01mor\u001B[39;00m {}))\n\u001B[32m---> \u001B[39m\u001B[32m84\u001B[39m nc = \u001B[43m_nc_dataset\u001B[49m\u001B[43m(\u001B[49m\u001B[43murl\u001B[49m\u001B[43m,\u001B[49m\u001B[43m \u001B[49m\u001B[43mrequests_kwargs\u001B[49m\u001B[43m)\u001B[49m\n\u001B[32m     85\u001B[39m \u001B[38;5;28;01mreturn\u001B[39;00m xr.open_dataset(\n\u001B[32m     86\u001B[39m     xr.backends.NetCDF4DataStore(nc),\n\u001B[32m     87\u001B[39m     **(xarray_kwargs \u001B[38;5;129;01mor\u001B[39;00m {}),\n\u001B[32m     88\u001B[39m )\n",
      "\u001B[36mFile \u001B[39m\u001B[32m~/PycharmProjects/BlueCloudResearch/.venv/lib/python3.13/site-packages/erddapy/core/netcdf.py:29\u001B[39m, in \u001B[36m_nc_dataset\u001B[39m\u001B[34m(url, requests_kwargs)\u001B[39m\n\u001B[32m     23\u001B[39m \u001B[38;5;250m\u001B[39m\u001B[33;03m\"\"\"Return a netCDF4-python Dataset from memory\u001B[39;00m\n\u001B[32m     24\u001B[39m \u001B[33;03mand fallbacks to disk if that fails.\u001B[39;00m\n\u001B[32m     25\u001B[39m \n\u001B[32m     26\u001B[39m \u001B[33;03m\"\"\"\u001B[39;00m\n\u001B[32m     27\u001B[39m \u001B[38;5;28;01mfrom\u001B[39;00m\u001B[38;5;250m \u001B[39m\u001B[34;01mnetCDF4\u001B[39;00m\u001B[38;5;250m \u001B[39m\u001B[38;5;28;01mimport\u001B[39;00m Dataset\n\u001B[32m---> \u001B[39m\u001B[32m29\u001B[39m data = \u001B[43murlopen\u001B[49m\u001B[43m(\u001B[49m\u001B[43murl\u001B[49m\u001B[43m,\u001B[49m\u001B[43m \u001B[49m\u001B[43mrequests_kwargs\u001B[49m\u001B[43m)\u001B[49m\n\u001B[32m     30\u001B[39m \u001B[38;5;28;01mtry\u001B[39;00m:\n\u001B[32m     31\u001B[39m     \u001B[38;5;28;01mreturn\u001B[39;00m Dataset(Path(urlparse(url).path).name, memory=data.read())\n",
      "\u001B[36mFile \u001B[39m\u001B[32m~/PycharmProjects/BlueCloudResearch/.venv/lib/python3.13/site-packages/erddapy/core/url.py:101\u001B[39m, in \u001B[36murlopen\u001B[39m\u001B[34m(url, requests_kwargs)\u001B[39m\n\u001B[32m     99\u001B[39m \u001B[38;5;28;01mif\u001B[39;00m requests_kwargs \u001B[38;5;129;01mis\u001B[39;00m \u001B[38;5;28;01mNone\u001B[39;00m:\n\u001B[32m    100\u001B[39m     requests_kwargs = {}\n\u001B[32m--> \u001B[39m\u001B[32m101\u001B[39m data = \u001B[43m_urlopen\u001B[49m\u001B[43m(\u001B[49m\u001B[43murl\u001B[49m\u001B[43m,\u001B[49m\u001B[43m \u001B[49m\u001B[43m*\u001B[49m\u001B[43m*\u001B[49m\u001B[43mrequests_kwargs\u001B[49m\u001B[43m)\u001B[49m\n\u001B[32m    102\u001B[39m data.seek(\u001B[32m0\u001B[39m)\n\u001B[32m    103\u001B[39m \u001B[38;5;28;01mreturn\u001B[39;00m data\n",
      "\u001B[36mFile \u001B[39m\u001B[32m~/PycharmProjects/BlueCloudResearch/.venv/lib/python3.13/site-packages/erddapy/core/url.py:74\u001B[39m, in \u001B[36m_urlopen\u001B[39m\u001B[34m(url, auth, **kwargs)\u001B[39m\n\u001B[32m     72\u001B[39m \u001B[38;5;28;01mexcept\u001B[39;00m httpx.HTTPError \u001B[38;5;28;01mas\u001B[39;00m err:\n\u001B[32m     73\u001B[39m     msg = \u001B[33mf\u001B[39m\u001B[33m\"\u001B[39m\u001B[38;5;132;01m{\u001B[39;00mresponse.content.decode()\u001B[38;5;132;01m}\u001B[39;00m\u001B[33m\"\u001B[39m\n\u001B[32m---> \u001B[39m\u001B[32m74\u001B[39m     \u001B[38;5;28;01mraise\u001B[39;00m httpx.HTTPError(msg) \u001B[38;5;28;01mfrom\u001B[39;00m\u001B[38;5;250m \u001B[39m\u001B[34;01merr\u001B[39;00m\n\u001B[32m     75\u001B[39m \u001B[38;5;28;01mreturn\u001B[39;00m io.BytesIO(response.content)\n",
      "\u001B[31mHTTPError\u001B[39m: Error {\n    code=404;\n    message=\"Not Found: Your query produced no matching results. Query error: For variable=TCO2 axis#0=time Constraint=\\\"[(1871-07-01T00:00:00Z):1:(2011-09-03T23:59:59Z)]\\\": Start=\\\"1871-07-01T00:00:00Z\\\" is less than the axis minimum=2020-01-01T00:00:00Z (and even 1.562058432E9).\";\n}\n"
     ]
    }
   ],
   "execution_count": 5
  },
  {
   "cell_type": "markdown",
   "metadata": {},
   "source": [
    "## 4. Sample the carbon data at each plankton observation",
    "",
    "We restrict the carbon dataset to the surface layer and then interpolate values at the plankton coordinates and timestamps."
   ],
   "id": "65721dc2e75bcfa9"
  },
  {
   "cell_type": "code",
   "metadata": {},
   "execution_count": null,
   "outputs": [],
   "source": [
    "carbon_surface = carbon_ds.isel(depth=0)\n",
    "\n",
    "lon_normalized = (plankton['lon'] + 360) % 360\n",
    "\n",
    "interp = carbon_surface.interp(\n",
    "    time=('observation', plankton['time'].values),\n",
    "    latitude=('observation', plankton['lat'].values),\n",
    "    longitude=('observation', lon_normalized.values),\n",
    ")\n",
    "\n",
    "plankton_carbon = plankton.copy()\n",
    "\n",
    "plankton_carbon['TCO2'] = interp['TCO2'].values\n",
    "plankton_carbon['TAlk'] = interp['TAlk'].values\n",
    "plankton_carbon['pHts25p0'] = interp['pHts25p0'].values\n",
    "\n",
    "plankton_carbon = plankton_carbon.dropna(subset=['TCO2', 'density'])\n",
    "\n",
    "plankton_carbon.head()\n"
   ],
   "id": "c6e387f9f9a022a8"
  },
  {
   "cell_type": "markdown",
   "metadata": {},
   "source": [
    "## 5. Correlation analysis",
    "",
    "We calculate Pearson correlations between the carbon variables and selected plankton metrics."
   ],
   "id": "f6aeee31f2b8869b"
  },
  {
   "cell_type": "code",
   "metadata": {},
   "execution_count": null,
   "outputs": [],
   "source": [
    "metrics = ['density', 'density_integrated', 'biovolume', 'biovolume_integrated', 'present']\n",
    "variables = ['TCO2', 'TAlk', 'pHts25p0']\n",
    "\n",
    "available_cols = [col for col in metrics + variables if col in plankton_carbon.columns]\n",
    "\n",
    "corr = plankton_carbon[available_cols].corr(method='pearson')\n",
    "\n",
    "corr.loc[\n",
    "    [v for v in variables if v in corr.index],\n",
    "    [m for m in metrics if m in corr.columns],\n",
    "]\n"
   ],
   "id": "a100708f203eb130"
  },
  {
   "cell_type": "markdown",
   "metadata": {},
   "source": [
    "### Pairwise relationships",
    "",
    "A seaborn pair-plot helps visualize the relationships that underpin the correlation values."
   ],
   "id": "75b1dd6bce9ac512"
  },
  {
   "cell_type": "code",
   "metadata": {},
   "execution_count": null,
   "outputs": [],
   "source": [
    "pairplot_cols = [col for col in variables + ['density', 'present'] if col in plankton_carbon.columns]\n",
    "\n",
    "sns.pairplot(plankton_carbon[pairplot_cols].dropna(), kind='reg', corner=True)\n",
    "\n",
    "plt.suptitle('Carbon vs Plankton metrics', y=1.02)\n",
    "\n",
    "plt.show()\n"
   ],
   "id": "f780fce918bc12d7"
  },
  {
   "cell_type": "markdown",
   "metadata": {},
   "source": [
    "## 6. Save merged dataset (optional)",
    "",
    "Saving the merged dataset allows further analysis or sharing of intermediate results."
   ],
   "id": "bf544c3227bea385"
  },
  {
   "cell_type": "code",
   "metadata": {},
   "execution_count": null,
   "outputs": [],
   "source": [
    "plankton_carbon.to_csv('../data/plankton_with_carbon.csv', index=False)\n"
   ],
   "id": "5a0e3f924eca7238"
  }
 ]
}
