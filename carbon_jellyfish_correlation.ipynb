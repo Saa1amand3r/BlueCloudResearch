{
 "cells": [
  {
   "cell_type": "markdown",
   "metadata": {},
   "source": [
    "# Carbon–Jellyfish Correlation Analysis\n",
    "\n",
    "This notebook combines the surface dissolved inorganic carbon information that was previously\n",
    "retrieved in [`carbon_data_exploration.ipynb`](DataExploration/carbon_data_exploration.ipynb) with the jellyfish\n",
    "observations processed in [`jellyfish_plankton_data_exploration.ipynb`](DataExploration/jellyfish_plankton_data_exploration.ipynb).\n",
    "\n",
    "The goal is to align the two datasets spatially and temporally and to compute the linear\n",
    "correlation between jellyfish density measurements and the surrounding surface carbon\n",
    "concentration.\n"
   ],
   "id": "281e10f4544ef237"
  },
  {
   "cell_type": "code",
   "metadata": {
    "ExecuteTime": {
     "end_time": "2025-09-30T17:50:26.693043Z",
     "start_time": "2025-09-30T17:50:24.382620Z"
    }
   },
   "source": [
    "from pathlib import Path\n",
    "\n",
    "import numpy as np\n",
    "import pandas as pd\n",
    "from erddapy import ERDDAP\n",
    "import xarray as xr\n",
    "import matplotlib.pyplot as plt\n"
   ],
   "id": "d718102f36d4624",
   "outputs": [],
   "execution_count": 1
  },
  {
   "cell_type": "markdown",
   "metadata": {},
   "source": [
    "## Load and prepare the jellyfish dataset\n",
    "\n",
    "We reuse the cleaned version of the JeDI jellyfish dataset that was explored earlier. The\n",
    "processing mirrors the steps in the original notebook: replace placeholders, coerce numeric\n",
    "columns, create a timestamp for each observation, and focus on rows that contain density\n",
    "information.\n"
   ],
   "id": "c0d9484ab7534036"
  },
  {
   "cell_type": "code",
   "metadata": {
    "ExecuteTime": {
     "end_time": "2025-09-30T17:50:44.150741Z",
     "start_time": "2025-09-30T17:50:35.563856Z"
    }
   },
   "source": [
    "data_dir = Path(\"data\")\n",
    "jellyfish_path = data_dir / \"JeDI.csv\"\n",
    "\n",
    "jellyfish = (\n",
    "    pd.read_csv(jellyfish_path)\n",
    "    .replace(\"nd\", pd.NA)\n",
    ")\n",
    "\n",
    "numeric_cols = [\n",
    "    \"year\", \"month\", \"day\", \"lat\", \"lon\",\n",
    "    \"count_actual\", \"density\", \"density_integrated\",\n",
    "    \"biovolume\", \"biovolume_integrated\",\n",
    "    \"weight_wet\", \"weight_dry\"\n",
    "]\n",
    "for col in numeric_cols:\n",
    "    jellyfish[col] = pd.to_numeric(jellyfish[col], errors=\"coerce\")\n",
    "\n",
    "# Drop observations without core spatial or temporal information\n",
    "jellyfish = jellyfish.dropna(subset=[\"lat\", \"lon\", \"year\"]).copy()\n",
    "\n",
    "# Use mid-month/day defaults where they are missing before building timestamps\n",
    "jellyfish[\"month\"] = jellyfish[\"month\"].fillna(7).astype(int)\n",
    "jellyfish[\"day\"] = jellyfish[\"day\"].fillna(15).astype(int)\n",
    "\n",
    "jellyfish[\"observation_time\"] = pd.to_datetime(\n",
    "    {\n",
    "        \"year\": jellyfish[\"year\"].astype(int),\n",
    "        \"month\": jellyfish[\"month\"],\n",
    "        \"day\": jellyfish[\"day\"]\n",
    "    },\n",
    "    errors=\"coerce\"\n",
    ")\n",
    "\n",
    "jellyfish = jellyfish.dropna(subset=[\"observation_time\", \"density\"]).copy()\n",
    "print(f\"Prepared {len(jellyfish):,} jellyfish observations with density measurements.\")\n"
   ],
   "id": "d70f8ce4197a1f5d",
   "outputs": [
    {
     "name": "stderr",
     "output_type": "stream",
     "text": [
      "/tmp/ipykernel_11196/2300148671.py:5: DtypeWarning: Columns (7,8,22,23,25,27) have mixed types. Specify dtype option on import or set low_memory=False.\n",
      "  pd.read_csv(jellyfish_path)\n"
     ]
    },
    {
     "name": "stdout",
     "output_type": "stream",
     "text": [
      "Prepared 257,600 jellyfish observations with density measurements.\n"
     ]
    }
   ],
   "execution_count": 2
  },
  {
   "cell_type": "markdown",
   "metadata": {},
   "source": [
    "## Retrieve the carbon dataset within the jellyfish envelope\n",
    "\n",
    "We use the same EMODnet ERDDAP endpoint and dataset as in the carbon exploration notebook.\n",
    "The spatial and temporal query window is restricted to the extent covered by the jellyfish\n",
    "observations to keep the download manageable. The dataset is further trimmed to surface\n",
    "measurements (depth = 0 m).\n"
   ],
   "id": "374ded83f2e1f58d"
  },
  {
   "cell_type": "code",
   "metadata": {
    "ExecuteTime": {
     "end_time": "2025-09-30T17:53:31.225835Z",
     "start_time": "2025-09-30T17:53:30.902413Z"
    }
   },
   "source": [
    "# 1) Ensure obs times are tz-aware UTC\n",
    "jellyfish[\"observation_time\"] = pd.to_datetime(\n",
    "    jellyfish[\"observation_time\"], utc=True, errors=\"coerce\"\n",
    ")\n",
    "obs_start = jellyfish[\"observation_time\"].min()\n",
    "obs_end   = jellyfish[\"observation_time\"].max()\n",
    "\n",
    "# 2) Read ERDDAP dataset coverage and force UTC as well\n",
    "info = pd.read_csv(info_url)\n",
    "\n",
    "dataset_start = pd.to_datetime(\n",
    "    info.loc[info[\"Attribute Name\"] == \"time_coverage_start\", \"Value\"].item(),\n",
    "    utc=True\n",
    ")\n",
    "dataset_end = pd.to_datetime(\n",
    "    info.loc[info[\"Attribute Name\"] == \"time_coverage_end\", \"Value\"].item(),\n",
    "    utc=True\n",
    ")\n",
    "\n",
    "# 3) Now comparisons are valid (all tz-aware UTC)\n",
    "query_start = max(dataset_start, obs_start)\n",
    "query_end   = min(dataset_end, obs_end)\n",
    "print(\"obs_start:\", obs_start, \"obs_end:\", obs_end)\n",
    "print(\"dataset_start:\", dataset_start, \"dataset_end:\", dataset_end)\n",
    "print(\"NaT counts:\", jellyfish[\"observation_time\"].isna().sum(), \"NaNs in obs_time\")\n",
    "\n",
    "if pd.isna(query_start) or pd.isna(query_end) or query_start > query_end:\n",
    "    raise ValueError(\"No valid time overlap between observations and dataset coverage.\")\n",
    "\n",
    "# 4) Spatial envelope (optional: normalize longitudes to ERDDAP's convention)\n",
    "lat_min, lat_max = float(jellyfish[\"lat\"].min()), float(jellyfish[\"lat\"].max())\n",
    "lon_min, lon_max = float(jellyfish[\"lon\"].min()), float(jellyfish[\"lon\"].max())\n",
    "\n",
    "# If your longitudes are 0..360 but ERDDAP expects -180..180, normalize:\n",
    "if lon_max > 180:\n",
    "    lon_min = ((lon_min + 180) % 360) - 180\n",
    "    lon_max = ((lon_max + 180) % 360) - 180\n",
    "\n",
    "# 5) Set constraints (RFC3339/ISO8601 w/ Z)\n",
    "erd.constraints[\"time>=\"]   = query_start.strftime(\"%Y-%m-%dT%H:%M:%SZ\")\n",
    "erd.constraints[\"time<=\"]   = query_end.strftime(\"%Y-%m-%dT%H:%M:%SZ\")\n",
    "erd.constraints[\"latitude>=\"]  = lat_min\n",
    "erd.constraints[\"latitude<=\"]  = lat_max\n",
    "erd.constraints[\"longitude>=\"] = lon_min\n",
    "erd.constraints[\"longitude<=\"] = lon_max\n",
    "erd.constraints[\"depth=\"]      = 0  # surface\n",
    "\n",
    "\n",
    "\n",
    "erd.variables = [\"TCO2\"]\n",
    "dataset = erd.to_xarray()\n",
    "print(dataset)\n"
   ],
   "id": "8477c8d630910c70",
   "outputs": [
    {
     "name": "stdout",
     "output_type": "stream",
     "text": [
      "obs_start: 1934-07-26 00:00:00+00:00 obs_end: 2010-08-20 00:00:00+00:00\n",
      "dataset_start: 2020-01-01 00:00:00+00:00 dataset_end: 2020-01-01 00:00:00+00:00\n",
      "NaT counts: 0 NaNs in obs_time\n"
     ]
    },
    {
     "ename": "ValueError",
     "evalue": "No valid time overlap between observations and dataset coverage.",
     "output_type": "error",
     "traceback": [
      "\u001B[31m---------------------------------------------------------------------------\u001B[39m",
      "\u001B[31mValueError\u001B[39m                                Traceback (most recent call last)",
      "\u001B[36mCell\u001B[39m\u001B[36m \u001B[39m\u001B[32mIn[6]\u001B[39m\u001B[32m, line 28\u001B[39m\n\u001B[32m     25\u001B[39m \u001B[38;5;28mprint\u001B[39m(\u001B[33m\"\u001B[39m\u001B[33mNaT counts:\u001B[39m\u001B[33m\"\u001B[39m, jellyfish[\u001B[33m\"\u001B[39m\u001B[33mobservation_time\u001B[39m\u001B[33m\"\u001B[39m].isna().sum(), \u001B[33m\"\u001B[39m\u001B[33mNaNs in obs_time\u001B[39m\u001B[33m\"\u001B[39m)\n\u001B[32m     27\u001B[39m \u001B[38;5;28;01mif\u001B[39;00m pd.isna(query_start) \u001B[38;5;129;01mor\u001B[39;00m pd.isna(query_end) \u001B[38;5;129;01mor\u001B[39;00m query_start > query_end:\n\u001B[32m---> \u001B[39m\u001B[32m28\u001B[39m     \u001B[38;5;28;01mraise\u001B[39;00m \u001B[38;5;167;01mValueError\u001B[39;00m(\u001B[33m\"\u001B[39m\u001B[33mNo valid time overlap between observations and dataset coverage.\u001B[39m\u001B[33m\"\u001B[39m)\n\u001B[32m     30\u001B[39m \u001B[38;5;66;03m# 4) Spatial envelope (optional: normalize longitudes to ERDDAP's convention)\u001B[39;00m\n\u001B[32m     31\u001B[39m lat_min, lat_max = \u001B[38;5;28mfloat\u001B[39m(jellyfish[\u001B[33m\"\u001B[39m\u001B[33mlat\u001B[39m\u001B[33m\"\u001B[39m].min()), \u001B[38;5;28mfloat\u001B[39m(jellyfish[\u001B[33m\"\u001B[39m\u001B[33mlat\u001B[39m\u001B[33m\"\u001B[39m].max())\n",
      "\u001B[31mValueError\u001B[39m: No valid time overlap between observations and dataset coverage."
     ]
    }
   ],
   "execution_count": 6
  },
  {
   "cell_type": "markdown",
   "metadata": {},
   "source": [
    "## Sample carbon values at jellyfish observation points\n",
    "\n",
    "To make the datasets comparable we sample the surface dissolved inorganic carbon field at each\n",
    "jellyfish observation. The interpolation uses the nearest available grid point in space and\n",
    "time.\n"
   ],
   "id": "479dda19fb61912e"
  },
  {
   "cell_type": "code",
   "execution_count": null,
   "metadata": {},
   "outputs": [],
   "source": [
    "surface_tco2 = dataset[\"TCO2\"].sel(depth=0)\n",
    "\n",
    "# Build helper arrays for vectorised interpolation\n",
    "obs_coords = xr.Dataset(\n",
    "    {\n",
    "        \"time\": (\"observation\", jellyfish[\"observation_time\"].values.astype(\"datetime64[ns]\")),\n",
    "        \"latitude\": (\"observation\", jellyfish[\"lat\"].values),\n",
    "        \"longitude\": (\"observation\", jellyfish[\"lon\"].values),\n",
    "    }\n",
    ")\n",
    "\n",
    "sampled = surface_tco2.interp(\n",
    "    time=obs_coords[\"time\"],\n",
    "    latitude=obs_coords[\"latitude\"],\n",
    "    longitude=obs_coords[\"longitude\"],\n",
    "    method=\"nearest\"\n",
    ")\n",
    "\n",
    "jellyfish[\"tco2\"] = sampled.to_pandas().values\n",
    "\n",
    "matched = jellyfish.dropna(subset=[\"tco2\", \"density\"])\n",
    "print(f\"Matched {len(matched):,} observations with carbon samples.\")\n",
    "matched.head()\n"
   ],
   "id": "d6de8268f612cdff"
  },
  {
   "cell_type": "markdown",
   "metadata": {},
   "source": [
    "## Carbon–jellyfish correlation\n",
    "\n",
    "With paired measurements available we can now compute the Pearson correlation coefficient\n",
    "between the sampled carbon values and the reported jellyfish densities.\n"
   ],
   "id": "7bc6f47ea84a0a7f"
  },
  {
   "cell_type": "code",
   "execution_count": null,
   "metadata": {},
   "outputs": [],
   "source": [
    "correlation = matched[\"tco2\"].corr(matched[\"density\"])\n",
    "print(f\"Pearson correlation (TCO₂ vs. jellyfish density): {correlation:.3f}\")\n"
   ],
   "id": "22ede3f243da2c57"
  },
  {
   "cell_type": "markdown",
   "metadata": {},
   "source": [
    "### Visualise the relationship\n",
    "\n",
    "A scatter plot gives an intuition for how the two variables co-vary. The colour scale encodes\n",
    "the observation year to show potential temporal structure.\n"
   ],
   "id": "be1b3999d84de4f4"
  },
  {
   "cell_type": "code",
   "execution_count": null,
   "metadata": {},
   "outputs": [],
   "source": [
    "plt.figure(figsize=(8, 6))\n",
    "scatter = plt.scatter(\n",
    "    matched[\"tco2\"],\n",
    "    matched[\"density\"],\n",
    "    c=matched[\"year\"],\n",
    "    cmap=\"viridis\",\n",
    "    alpha=0.6,\n",
    "    edgecolor=\"k\",\n",
    "    linewidth=0.2\n",
    ")\n",
    "plt.colorbar(scatter, label=\"Observation year\")\n",
    "plt.xlabel(\"Surface TCO₂ (µmol/kg)\")\n",
    "plt.ylabel(\"Jellyfish density\")\n",
    "plt.title(\"Surface carbon vs. jellyfish density\")\n",
    "plt.grid(True, linestyle=\":\", alpha=0.4)\n",
    "plt.show()\n"
   ],
   "id": "9d0a3b3b4aa8d740"
  }
 ],
 "metadata": {
  "kernelspec": {
   "display_name": "Python 3",
   "language": "python",
   "name": "python3"
  },
  "language_info": {
   "name": "python",
   "version": "3.10"
  }
 },
 "nbformat": 4,
 "nbformat_minor": 5
}
